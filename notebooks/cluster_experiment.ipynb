{
 "cells": [
  {
   "cell_type": "code",
   "execution_count": 9,
   "id": "7976ba6a",
   "metadata": {},
   "outputs": [],
   "source": [
    "import pandas as pd\n",
    "import numpy as np\n",
    "import scipy.stats\n",
    "import matplotlib.pyplot as plt\n",
    "import seaborn as sns\n",
    "import operator\n",
    "from functools import reduce"
   ]
  },
  {
   "cell_type": "code",
   "execution_count": 10,
   "id": "c08ab57e",
   "metadata": {},
   "outputs": [],
   "source": [
    "def get_star(p):\n",
    "    star = ''\n",
    "    if p < 0.001:\n",
    "        star = '***'\n",
    "    elif p < 0.01:\n",
    "        star = '**'\n",
    "    elif p < 0.05:\n",
    "        star = '*'\n",
    "    return star"
   ]
  },
  {
   "cell_type": "code",
   "execution_count": 11,
   "id": "605df46f",
   "metadata": {},
   "outputs": [],
   "source": [
    "datanames = [('wvs_w7', 'wvs'),('pew', 'pew')]\n",
    "lms = ['mcm', 'gpt2_token_pairs', 'gpt2-medium_token_pairs','gpt2-large_token_pairs', 'gpt3', 'gpt3_token_pairs', \n",
    "       'wvs_w7_gpt2_random_on_wvs_token_pairs']\n",
    "lms_names = ['SBERT', 'GPT2', 'GPT2-MEDIUM','GPT2-LARGE','GPT3-QA','GPT3-PROBS', 'GPT2-Fine-tuned (Random)']\n",
    "lm_scores = ['mcm_score','log prob difference','log prob difference','log prob difference', 'gpt3_score_mean','log prob difference', 'log prob difference']\n",
    "main_models = ['mcm','gpt2-large_token_pairs','gpt3']\n",
    "appendix_models = ['gpt2_token_pairs','gpt2-medium_token_pairs','gpt3_token_pairs']"
   ]
  },
  {
   "cell_type": "code",
   "execution_count": 34,
   "id": "154365b1",
   "metadata": {},
   "outputs": [],
   "source": []
  },
  {
   "cell_type": "code",
   "execution_count": 110,
   "id": "2b9b559f",
   "metadata": {},
   "outputs": [],
   "source": [
    "def get_cluster_dfs(with_repeat = False):\n",
    "    B = 1\n",
    "    if with_repeat:\n",
    "        B = 50\n",
    "    list_rows_country = []\n",
    "    list_rows_continent = []\n",
    "    continents_df = pd.read_csv('../data/Countries-Continents.csv')\n",
    "    continents = continents_df.Continent.unique()\n",
    "    for i in range(len(lms)):\n",
    "        for data_index in range(1):\n",
    "            lm_index = lms.index(lms[i])\n",
    "\n",
    "            lm = lms[lm_index]\n",
    "            score = lm_scores[lm_index]\n",
    "            data_name = datanames[data_index]\n",
    "\n",
    "            emp_column = f'{data_name[1]}_score'\n",
    "            lm_column = score\n",
    "\n",
    "            if lm_index == len(lms) - 1:\n",
    "                df = pd.read_csv(f'../data/{lm}.csv')\n",
    "                df = df.loc[df['country'] != 'universal']\n",
    "\n",
    "            else:\n",
    "                df = pd.read_csv(f'../data/{data_name[0]}_{lm}.csv') \n",
    "            df = df.loc[~pd.isna(df[emp_column])]\n",
    "            clusters_df= pd.read_csv(f'../data/rich_west_{data_name[1]}.csv')\n",
    "\n",
    "\n",
    "            clusters = list(clusters_df.rich_west.unique())\n",
    "            rich_western = 'United States, Australia, Netherlands, ...'\n",
    "            non_rich_western = 'Turkey, Kazakhstan, Thailand, ...'\n",
    "\n",
    "\n",
    "            for b in range(B):\n",
    "                for c in clusters:\n",
    "                    cluster_country = list(clusters_df.loc[clusters_df.rich_west == c].country.unique())\n",
    "                    if with_repeat:\n",
    "                        cluster_sample = np.random.choice(cluster_country, 11, False)\n",
    "                    else:\n",
    "                        cluster_sample = cluster_country\n",
    "                    small_data = df.loc[df.country.isin(cluster_sample)]\n",
    "                    r, p = scipy.stats.pearsonr(small_data[emp_column], small_data[lm_column])\n",
    "\n",
    "\n",
    "                    if c == True:\n",
    "                        countries_str = f'Rich & Western countries: {rich_western}, (n = 11)'\n",
    "                    else:\n",
    "                        countries_str = f'Non-rich | non-western countries: {non_rich_western}, (n = 44)'\n",
    "\n",
    "\n",
    "                    row = {'cluster':c,'countries': countries_str,'countries_list':cluster_country,\n",
    "                          'p': p,'r': r,'model': lms_names[i], 'data': data_name[1]}\n",
    "                    list_rows_country.append(row)\n",
    "\n",
    "\n",
    "                for c in continents:\n",
    "                    cluster_country = list(continents_df.loc[continents_df.Continent == c].Country.unique())\n",
    "\n",
    "                    cluster_country = [x for x in cluster_country if x in list(df.country.unique())]\n",
    "                    if with_repeat:\n",
    "                        cluster_sample = np.random.choice(cluster_country, min(5, len(cluster_country)), False)\n",
    "                    else: \n",
    "                        cluster_sample = cluster_country\n",
    "                    small_data = df.loc[df.country.isin(cluster_sample)]\n",
    "\n",
    "                    r, p = scipy.stats.pearsonr(small_data[emp_column], small_data[lm_column])\n",
    "\n",
    "                    countries_str = \", \".join(cluster_country)\n",
    "\n",
    "\n",
    "                    row = {'continent':c + f', (n = {len(cluster_country)})','countries': countries_str,'countries_list':cluster_country,\n",
    "                          'p': p,'r': r,'model': lms_names[i], 'data': data_name[1]}\n",
    "                    list_rows_continent.append(row)\n",
    "        \n",
    "    country_cluster_df = pd.DataFrame(list_rows_country)\n",
    "    country_continent_df = pd.DataFrame(list_rows_continent)\n",
    "    return country_cluster_df,country_continent_df\n",
    "\n",
    "\n"
   ]
  },
  {
   "cell_type": "code",
   "execution_count": 111,
   "id": "33cffc84",
   "metadata": {},
   "outputs": [],
   "source": [
    "sns.set(font_scale=1)\n",
    "sns.set_style(\"ticks\")"
   ]
  },
  {
   "cell_type": "code",
   "execution_count": 120,
   "id": "8fb0d268",
   "metadata": {},
   "outputs": [],
   "source": [
    "country_cluster_df,country_continent_df = get_cluster_dfs(False)"
   ]
  },
  {
   "cell_type": "code",
   "execution_count": 135,
   "id": "7750079f",
   "metadata": {
    "scrolled": true
   },
   "outputs": [
    {
     "data": {
      "image/png": "[encoded data removed]",
      "text/plain": [
       "<Figure size 1080x72 with 2 Axes>"
      ]
     },
     "metadata": {},
     "output_type": "display_data"
    }
   ],
   "source": [
    "\n",
    "fig, axes = plt.subplots(1, 2, figsize = (15, 1))\n",
    "ax = axes[0]\n",
    "country_cluster_df_wvs = country_cluster_df.loc[country_cluster_df.data == 'wvs']\n",
    "\n",
    "g = sns.barplot(data = country_cluster_df_wvs, x = 'model',y = 'r', hue = 'countries', ax = ax)\n",
    "ax.legend(loc='center left', bbox_to_anchor=(-0.1,-2), title = 'Country clusters')\n",
    "ax.set_xticklabels(rotation=30, labels = g.get_xticklabels(),ha = 'right')\n",
    "ax.set_xlabel('')\n",
    "ax.set_ylabel('Pearson\\'s r')\n",
    "ax.set_title('Rich West grouping | WVS')\n",
    "legend_labels = ax.get_legend_handles_labels()[-1]\n",
    "for p in g.patches:\n",
    "    \n",
    "#     group = legend_labels[i % (len(legend_labels)) ]\n",
    "#     model = lms_names[(i // 2) % len(lms_names)]\n",
    "#     pval = np.max(country_cluster_df_wvs.loc[(country_cluster_df_wvs.model == model) & (country_cluster_df_wvs.countries == group)].p)\n",
    "    r, y = p.get_height(),p.get_height()\n",
    "    \n",
    "    pval = np.mean(country_cluster_df_wvs.loc[country_cluster_df_wvs.r == r].p)\n",
    "    star = get_star(pval)\n",
    "#     print(model, group, pval, star)\n",
    "    g.annotate(star, (p.get_x() + p.get_width() / 2., p.get_height()),fontsize = 12, \n",
    "       ha = 'center', va = 'center', xytext = (0, 10), textcoords = 'offset points')\n",
    "    \n",
    "    \n",
    "\n",
    "ax = axes[1]\n",
    "country_continent_df_wvs = country_continent_df.loc[country_continent_df.data == 'wvs']\n",
    "\n",
    "g = sns.barplot(data = country_continent_df_wvs, x = 'model',y = 'r', hue = 'continent', ax = ax)\n",
    "ax.legend(loc='center left', bbox_to_anchor=(-0.1,-2), title = 'Country clusters', ncol = 3)\n",
    "ax.set_xticklabels(rotation=30, labels = g.get_xticklabels(),ha = 'right')\n",
    "ax.set_xlabel('')\n",
    "ax.set_ylabel('Pearson\\'s r')\n",
    "ax.set_title('Continent grouping | WVS')\n",
    "\n",
    "for p in g.patches:\n",
    "    x = p.get_x()\n",
    "    r, y = p.get_height(),p.get_height()\n",
    "    pval = np.max(country_continent_df_wvs.loc[country_continent_df_wvs.r == r].p)\n",
    "    star = get_star(pval)\n",
    "    g.annotate(star, (p.get_x() + p.get_width() / 2., p.get_height()),fontsize = 9, \n",
    "       ha = 'center', va = 'center', xytext = (0, 10), textcoords = 'offset points')\n",
    "    \n",
    "    \n",
    "    \n",
    "\n",
    "\n",
    "sns.despine(left = False)\n",
    "plt.savefig('figs/double_clustering_wvs.png', dpi = 150, bbox_inches = 'tight')\n"
   ]
  },
  {
   "cell_type": "markdown",
   "id": "efed03f6",
   "metadata": {},
   "source": [
    "## WVS data correlation"
   ]
  },
  {
   "cell_type": "code",
   "execution_count": 46,
   "id": "c89726dd",
   "metadata": {},
   "outputs": [],
   "source": [
    "df = pd.read_csv(f'../data/wvs_w7_gpt3_token_pairs.csv') \n",
    "cluster_country = list(continents_df.loc[continents_df.Continent == 'Europe'].Country.unique())\n",
    "cluster_country = [x for x in cluster_country if x in list(df.country.unique())]\n",
    "eu_data = df.loc[df.country.isin(cluster_country)]\n",
    "\n",
    "cluster_country = list(continents_df.loc[continents_df.Continent == 'North America'].Country.unique())\n",
    "cluster_country = [x for x in cluster_country if x in list(df.country.unique())]\n",
    "na_data = df.loc[df.country.isin(cluster_country)]\n",
    "            "
   ]
  },
  {
   "cell_type": "code",
   "execution_count": 47,
   "id": "3b8392b2",
   "metadata": {},
   "outputs": [
    {
     "data": {
      "text/plain": [
       "(8, 5)"
      ]
     },
     "execution_count": 47,
     "metadata": {},
     "output_type": "execute_result"
    }
   ],
   "source": [
    "len(eu_data.country.unique()),len(na_data.country.unique())"
   ]
  },
  {
   "cell_type": "code",
   "execution_count": 49,
   "id": "57631a4e",
   "metadata": {},
   "outputs": [
    {
     "name": "stdout",
     "output_type": "stream",
     "text": [
      "(0.938129742745483, 2.987816583064099e-09)\n"
     ]
    }
   ],
   "source": [
    "ratings_eu = []\n",
    "ratings_na = []\n",
    "for topic in eu_data.topic.unique():\n",
    "    \n",
    "    eu_t = eu_data.loc[eu_data.topic == topic]['wvs_score'].mean()\n",
    "    na_t = na_data.loc[na_data.topic == topic]['wvs_score'].mean()\n",
    "    ratings_eu.append(eu_t)\n",
    "    ratings_na.append(na_t)\n",
    "    \n",
    "\n",
    "\n",
    "print(scipy.stats.pearsonr(ratings_eu,ratings_na))\n",
    "\n",
    "    "
   ]
  },
  {
   "cell_type": "code",
   "execution_count": null,
   "id": "02e1584c",
   "metadata": {},
   "outputs": [],
   "source": []
  }
 ],
 "metadata": {
  "kernelspec": {
   "display_name": "Python 3 (ipykernel)",
   "language": "python",
   "name": "python3"
  },
  "language_info": {
   "codemirror_mode": {
    "name": "ipython",
    "version": 3
   },
   "file_extension": ".py",
   "mimetype": "text/x-python",
   "name": "python",
   "nbconvert_exporter": "python",
   "pygments_lexer": "ipython3",
   "version": "3.9.6"
  }
 },
 "nbformat": 4,
 "nbformat_minor": 5
}
