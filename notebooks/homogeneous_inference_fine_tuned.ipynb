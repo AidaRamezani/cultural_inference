{
 "cells": [
  {
   "cell_type": "code",
   "execution_count": 4,
   "id": "64f4d5c2",
   "metadata": {},
   "outputs": [],
   "source": [
    "import pandas as pd\n",
    "import matplotlib.pyplot as plt\n",
    "import seaborn as sns\n",
    "import pickle\n",
    "import scipy.stats as stats\n",
    "import numpy as np"
   ]
  },
  {
   "cell_type": "code",
   "execution_count": 14,
   "id": "57a4b873",
   "metadata": {},
   "outputs": [],
   "source": [
    "def get_correlation(prompts,metric_name, user_study = 'globalAMT'):\n",
    "\n",
    "    user_ratings = []\n",
    "    perplexity = []\n",
    "    text = []\n",
    "    does = []\n",
    "    for row in prompts:\n",
    "        if f'user_score_{user_study}' not in row:\n",
    "            continue\n",
    "        user_score = row[f'user_score_{user_study}']\n",
    "\n",
    "        text.append(row['aa'] + ' ' + row['aci'])\n",
    "        user_ratings.append(user_score)\n",
    "        perplexity.append(row[metric_name])\n",
    "        if user_score >= 0:\n",
    "            does.append(True)\n",
    "        else:\n",
    "            does.append(False)\n",
    "    \n",
    "    does_ids = [i for i in range(len(does)) if does[i] == True]\n",
    "    donts_ids = [i for i in range(len(does)) if does[i] == False]\n",
    "    user_ratings_does = np.array(user_ratings)[does_ids]\n",
    "    perplexity_does = np.array(perplexity)[does_ids]\n",
    "\n",
    "    user_ratings_donts = np.array(user_ratings)[donts_ids]\n",
    "    perplexity_donts = np.array(perplexity)[donts_ids]\n",
    "    print(stats.pearsonr(user_ratings, perplexity))\n"
   ]
  },
  {
   "cell_type": "markdown",
   "id": "493e53fb",
   "metadata": {},
   "source": [
    "## Perplexity difference"
   ]
  },
  {
   "cell_type": "code",
   "execution_count": 9,
   "id": "77c59170",
   "metadata": {},
   "outputs": [],
   "source": [
    "def get_finetuned_gpt2_results(test_type, train_data):\n",
    "    if train_data == 'wvs':\n",
    "        train_data = ''\n",
    "    else:\n",
    "        train_data = '_on_pew'\n",
    "    prompts = pickle.load(open(f'../data/MoRT_actions/prompts_gpt2_{test_type}{train_data}_pair_logprob_userstudy_globalAMT_style_mv_at_end_use_last_token_True.p',\n",
    "      'rb'))\n",
    "    get_correlation(prompts, 'log prob difference')\n",
    "    "
   ]
  },
  {
   "cell_type": "code",
   "execution_count": 15,
   "id": "8bc3f176",
   "metadata": {},
   "outputs": [
    {
     "name": "stdout",
     "output_type": "stream",
     "text": [
      "wvs random\n",
      "(0.7138908570675185, 7.633657290982865e-17)\n",
      "wvs country_based\n",
      "(0.7243825139157148, 1.6273447286102513e-17)\n",
      "wvs topic based\n",
      "(0.702607436900728, 3.732030671767043e-16)\n",
      "wvs removed topics\n",
      "(0.6926465873644478, 1.4260308048395361e-15)\n",
      "pew random\n",
      "(0.6351488306361157, 1.2709156029995464e-12)\n",
      "pew country_based\n",
      "(0.6668359504531005, 3.6218571774481726e-14)\n",
      "pew topic based\n",
      "(0.6110713797721627, 1.4600455075589055e-11)\n",
      "pew removed topics\n",
      "(0.6301404652166753, 2.1490495940967724e-12)\n"
     ]
    }
   ],
   "source": [
    "for train_data in ['wvs','pew']:\n",
    "    for test_type in ['random','country_based','topic based','removed topics']:\n",
    "        print(train_data, test_type)\n",
    "        get_finetuned_gpt2_results(test_type, train_data)\n",
    "        "
   ]
  },
  {
   "cell_type": "code",
   "execution_count": null,
   "id": "2716e711",
   "metadata": {},
   "outputs": [],
   "source": []
  }
 ],
 "metadata": {
  "kernelspec": {
   "display_name": "Python 3 (ipykernel)",
   "language": "python",
   "name": "python3"
  },
  "language_info": {
   "codemirror_mode": {
    "name": "ipython",
    "version": 3
   },
   "file_extension": ".py",
   "mimetype": "text/x-python",
   "name": "python",
   "nbconvert_exporter": "python",
   "pygments_lexer": "ipython3",
   "version": "3.11.1"
  }
 },
 "nbformat": 4,
 "nbformat_minor": 5
}
