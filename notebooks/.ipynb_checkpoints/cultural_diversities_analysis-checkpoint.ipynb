{
 "cells": [
  {
   "cell_type": "code",
   "execution_count": 1,
   "id": "cdc77e78",
   "metadata": {},
   "outputs": [],
   "source": [
    "import matplotlib.pyplot as plt\n",
    "import seaborn as sns\n",
    "import pandas as pd\n",
    "import numpy as np\n",
    "import pickle\n",
    "from scipy import stats\n",
    "import warnings\n",
    "warnings.filterwarnings('ignore')"
   ]
  },
  {
   "cell_type": "code",
   "execution_count": 2,
   "id": "55989b4e",
   "metadata": {},
   "outputs": [],
   "source": [
    "datanames = [('wvs_w7', 'wvs'),('pew', 'pew')]\n",
    "lms = ['mcm', 'gpt2_token_pairs', 'gpt2-medium_token_pairs','gpt2-large_token_pairs', 'gpt3', 'gpt3_token_pairs']\n",
    "lms_names = ['SBERT', 'GPT2', 'GPT2-MEDIUM','GPT2-LARGE','GPT3-QA','GPT3-PROBS']\n",
    "lm_scores = ['mcm_score','log prob difference','log prob difference','log prob difference', 'gpt3_score_mean','log prob difference']"
   ]
  },
  {
   "cell_type": "code",
   "execution_count": 3,
   "id": "22bd72da",
   "metadata": {},
   "outputs": [],
   "source": [
    "main_models = ['mcm','gpt2-large_token_pairs','gpt3_token_pairs']\n",
    "appendix_models = ['gpt2_token_pairs','gpt2-medium_token_pairs','gpt3']"
   ]
  },
  {
   "cell_type": "code",
   "execution_count": 4,
   "id": "9c64cf44",
   "metadata": {},
   "outputs": [],
   "source": [
    "pew_mcm = pd.read_csv('../data/pew_mcm.csv')\n",
    "\n",
    "pew_gpt3 = pd.read_csv('../data/pew_gpt3.csv')\n",
    "\n",
    "pew_gpt2 = pd.read_csv('../data/pew_gpt2-large_token_pairs.csv')\n",
    "\n",
    "uni_pew_gpt = pd.read_csv('../data/universal_pew_gpt3.csv')\n",
    "\n",
    "pew_gpt2 = pew_gpt2.loc[pew_gpt2['country'] != 'universal']\n",
    "pew_gpt2_universal = pew_gpt2.loc[pew_gpt2['country'] == 'universal']\n",
    "\n",
    "pew_gpt3_token_pairs = pd.read_csv('../data/pew_gpt3_token_pairs.csv')\n",
    "pew_gpt3_universal_token_pairs = pew_gpt3_token_pairs.loc[pew_gpt3_token_pairs.country == 'universal']\n",
    "pew_gpt3_cultural_token_pairs = pew_gpt3_token_pairs.loc[pew_gpt3_token_pairs['country'] != 'universal']\n",
    "pew_gpt3_cultural_token_pairs['universal log prob difference'] = \\\n",
    "[float(pew_gpt3_universal_token_pairs.loc[pew_gpt3_universal_token_pairs.topic == t]['log prob difference'])\n",
    " for t in list(pew_gpt3_cultural_token_pairs.topic)]\n",
    "\n",
    "\n",
    "\n",
    "\n"
   ]
  },
  {
   "cell_type": "code",
   "execution_count": 5,
   "id": "3585a88b",
   "metadata": {},
   "outputs": [],
   "source": [
    "wave = 7\n",
    "wvs_mcm = pd.read_csv(f'../data/wvs_w{wave}_mcm.csv')\n",
    "wvs_gpt3 = pd.read_csv('../data/wvs_w7_gpt3.csv')\n",
    "\n",
    "wvs_gpt2 = pd.read_csv('../data/wvs_w7_gpt2-large_token_pairs.csv')\n",
    "wvs_gpt2_universal = wvs_gpt2.loc[wvs_gpt2.country == 'universal']\n",
    "wvs_gpt2 = wvs_gpt2.loc[wvs_gpt2.country !=' universal']\n",
    "\n",
    "\n",
    "wvs_gpt3_tk =  pd.read_csv('../data/wvs_w7_gpt3_token_pairs.csv')\n",
    "wvs_gpt3_universal = wvs_gpt3_tk.loc[wvs_gpt3_tk.country == 'universal']\n",
    "wvs_gpt3_tk = wvs_gpt3_tk.loc[(~pd.isna(wvs_gpt3_tk['wvs_score'])) & (wvs_gpt3_tk.country != 'universal')]\n",
    "\n"
   ]
  },
  {
   "cell_type": "code",
   "execution_count": 6,
   "id": "cf39a12e",
   "metadata": {},
   "outputs": [],
   "source": [
    "pew_topics = {'using contraceptives':['using contraceptives', 'use contraceptives'],\n",
    "           'getting a divorce': ['getting a divorce','get a divorce'], \n",
    "           'having an abortion': ['having an abortion','have an abortion'],\n",
    "           'homosexuality': ['homosexuality','be homosexual'], \n",
    "           'drinking alcohol': ['drinking alcohol','drink alcohol'],\n",
    "           'married people having an affair' : ['married people having an affair', 'have an extramarital affair'],\n",
    "            'gambling': ['gambling','gamble'],\n",
    "       'sex between unmarried adults': [ 'sex between unmarried adults','have sex between unmarried adults']\n",
    "                         }\n",
    "pew_topics_list = list(pew_topics.keys())\n",
    "topics = list(wvs_gpt3.topic.unique())"
   ]
  },
  {
   "cell_type": "code",
   "execution_count": 7,
   "id": "815fcfb8",
   "metadata": {},
   "outputs": [],
   "source": [
    "variation_rows = []\n",
    "for lm_index in range(len(lms)):\n",
    "\n",
    "        \n",
    "    data_index = 0\n",
    "\n",
    "\n",
    "    lm = lms[lm_index]\n",
    "    data_name = datanames[data_index]\n",
    "    data = pd.read_csv(f'../data/{data_name[0]}_{lm}.csv')\n",
    "    topic_col = 'topic' if 'topic' in data.columns else 'question'\n",
    "    wvs_topics = data[topic_col].unique() \n",
    "\n",
    "    for t in topics:\n",
    "\n",
    "        data_t = data.loc[data[topic_col]==t]\n",
    "        user_var = np.var(data_t[f'{data_name[1]}_score'])\n",
    "        model_var = np.var(data_t[f'{lm_scores[lm_index]}'])\n",
    "\n",
    "        row = {'dataname': data_name[1].upper(), 'model': lms_names[lm_index], 'user variation': user_var, 'model variation': model_var, 'topic': t}\n",
    "        variation_rows.append(row)\n",
    "\n",
    "        variation_rows.append(row)\n",
    "        \n",
    "    \n",
    "    data_index = 1\n",
    "    \n",
    "\n",
    "    lm = lms[lm_index]\n",
    "    data_name = datanames[data_index]\n",
    "    data = pd.read_csv(f'../data/{data_name[0]}_{lm}.csv')\n",
    "    topic_col = 'topic' if 'topic' in data.columns else 'question'\n",
    "\n",
    "\n",
    "    for t in pew_topics:\n",
    "\n",
    "        data_t = data.loc[data[topic_col].isin(pew_topics[t])]\n",
    "        user_var = np.var(data_t[f'{data_name[1]}_score'])\n",
    "        model_var = np.var(data_t[f'{lm_scores[lm_index]}'])\n",
    "\n",
    "        row = {'dataname': data_name[1].upper(), 'model': lms_names[lm_index], 'user variation': user_var, 'model variation': model_var, 'topic': t}\n",
    "        variation_rows.append(row)\n",
    "\n",
    "        variation_rows.append(row)\n",
    "\n",
    "    \n"
   ]
  },
  {
   "cell_type": "code",
   "execution_count": 8,
   "id": "7a1b39bd",
   "metadata": {},
   "outputs": [],
   "source": [
    "df = pd.DataFrame(variation_rows)\n"
   ]
  },
  {
   "cell_type": "code",
   "execution_count": 11,
   "id": "79c83d26",
   "metadata": {
    "scrolled": false
   },
   "outputs": [],
   "source": [
    "def draw_model(models, prefix):\n",
    "    list_rows = []\n",
    "    fig, axes = plt.subplots(2, len(models) ,figsize = (4 * len(models), 3), sharey = False, sharex = True)\n",
    "    plt.subplots_adjust(hspace=0.8)\n",
    "    for i in range(len(models)):\n",
    "        for j, dataname in enumerate(datanames):\n",
    "            \n",
    "            model = lms_names[lms.index(models[i])]\n",
    "            \n",
    "            topics_list = pew_topics_list if j == 1 else list(wvs_topics)\n",
    "\n",
    "            model_df = df.loc[(df.model == model) & (df.dataname == dataname[1].upper())]\n",
    "\n",
    "            model_df['topic '] = [f'{topics_list.index(t) + 1} {t}'for t in model_df['topic']]\n",
    "\n",
    "            ax = axes[j][i]\n",
    "\n",
    "            g = sns.scatterplot(data = model_df, x= 'user variation', y = 'model variation',\n",
    "                                hue = 'topic ', ax = ax, legend = False)\n",
    "\n",
    "            ax.set_ylabel('')\n",
    "            ax.set_xlabel('')\n",
    "\n",
    "            ax.set_title(model)\n",
    "\n",
    "            ax.legend().remove()\n",
    "\n",
    "            for _, row in model_df.iterrows():\n",
    "                x = row['user variation']\n",
    "                y = row['model variation']\n",
    "                s = topics_list.index(row['topic'])\n",
    "                ax.text(x = x, y = y, s = s + 1)\n",
    "\n",
    "            slope, intercept, r_value, p_value, std_err =\\\n",
    "            stats.linregress(model_df['model variation'],model_df['user variation'])\n",
    "\n",
    "            row = {'model': model, 'r': r_value, 'p': p_value, 'data': dataname}\n",
    "            list_rows.append(row)\n",
    "\n",
    "        sns.despine(fig=None, ax=None,left=False, bottom=False, offset=None, trim=False)\n",
    "#\n",
    "#         plt.savefig(f'figs/figure_3_{prefix}.png', bbox_inches = 'tight', dpi = 200)\n",
    "\n",
    "    return list_rows\n",
    "\n"
   ]
  },
  {
   "cell_type": "code",
   "execution_count": 12,
   "id": "9114f1b9",
   "metadata": {},
   "outputs": [
    {
     "name": "stderr",
     "output_type": "stream",
     "text": [
      "No handles with labels found to put in legend.\n",
      "No handles with labels found to put in legend.\n",
      "No handles with labels found to put in legend.\n",
      "No handles with labels found to put in legend.\n",
      "No handles with labels found to put in legend.\n",
      "No handles with labels found to put in legend.\n"
     ]
    },
    {
     "data": {
      "image/png": "[encoded data removed]",
      "text/plain": [
       "<Figure size 864x216 with 6 Axes>"
      ]
     },
     "metadata": {
      "needs_background": "light"
     },
     "output_type": "display_data"
    }
   ],
   "source": [
    "list_rows = draw_model(main_models,'main')"
   ]
  },
  {
   "cell_type": "code",
   "execution_count": 13,
   "id": "aacac2ab",
   "metadata": {},
   "outputs": [
    {
     "name": "stderr",
     "output_type": "stream",
     "text": [
      "No handles with labels found to put in legend.\n",
      "No handles with labels found to put in legend.\n",
      "No handles with labels found to put in legend.\n",
      "No handles with labels found to put in legend.\n",
      "No handles with labels found to put in legend.\n",
      "No handles with labels found to put in legend.\n"
     ]
    },
    {
     "data": {
      "image/png": "[encoded data removed]",
      "text/plain": [
       "<Figure size 864x216 with 6 Axes>"
      ]
     },
     "metadata": {
      "needs_background": "light"
     },
     "output_type": "display_data"
    }
   ],
   "source": [
    "list_rows += draw_model(appendix_models,'app')"
   ]
  },
  {
   "cell_type": "code",
   "execution_count": 14,
   "id": "eb869728",
   "metadata": {},
   "outputs": [],
   "source": [
    "import statsmodels.stats.multitest\n",
    "df = pd.DataFrame(list_rows)\n",
    "df['corrected p'] = statsmodels.stats.multitest.multipletests(df['p'], alpha=0.05, method='bonferroni', \\\n",
    "                                                              is_sorted=False, returnsorted=False)[1]"
   ]
  },
  {
   "cell_type": "code",
   "execution_count": 15,
   "id": "d4e8e646",
   "metadata": {},
   "outputs": [
    {
     "data": {
      "text/html": [
       "<div>\n",
       "<style scoped>\n",
       "    .dataframe tbody tr th:only-of-type {\n",
       "        vertical-align: middle;\n",
       "    }\n",
       "\n",
       "    .dataframe tbody tr th {\n",
       "        vertical-align: top;\n",
       "    }\n",
       "\n",
       "    .dataframe thead th {\n",
       "        text-align: right;\n",
       "    }\n",
       "</style>\n",
       "<table border=\"1\" class=\"dataframe\">\n",
       "  <thead>\n",
       "    <tr style=\"text-align: right;\">\n",
       "      <th></th>\n",
       "      <th>model</th>\n",
       "      <th>r</th>\n",
       "      <th>p</th>\n",
       "      <th>data</th>\n",
       "      <th>corrected p</th>\n",
       "    </tr>\n",
       "  </thead>\n",
       "  <tbody>\n",
       "    <tr>\n",
       "      <th>0</th>\n",
       "      <td>SBERT</td>\n",
       "      <td>0.618220</td>\n",
       "      <td>3.532108e-05</td>\n",
       "      <td>(wvs_w7, wvs)</td>\n",
       "      <td>0.000424</td>\n",
       "    </tr>\n",
       "    <tr>\n",
       "      <th>1</th>\n",
       "      <td>SBERT</td>\n",
       "      <td>-0.480666</td>\n",
       "      <td>5.947505e-02</td>\n",
       "      <td>(pew, pew)</td>\n",
       "      <td>0.713701</td>\n",
       "    </tr>\n",
       "    <tr>\n",
       "      <th>2</th>\n",
       "      <td>GPT2-LARGE</td>\n",
       "      <td>0.223093</td>\n",
       "      <td>1.781945e-01</td>\n",
       "      <td>(wvs_w7, wvs)</td>\n",
       "      <td>1.000000</td>\n",
       "    </tr>\n",
       "    <tr>\n",
       "      <th>3</th>\n",
       "      <td>GPT2-LARGE</td>\n",
       "      <td>0.149994</td>\n",
       "      <td>5.792638e-01</td>\n",
       "      <td>(pew, pew)</td>\n",
       "      <td>1.000000</td>\n",
       "    </tr>\n",
       "    <tr>\n",
       "      <th>4</th>\n",
       "      <td>GPT3-PROBS</td>\n",
       "      <td>0.183873</td>\n",
       "      <td>2.691321e-01</td>\n",
       "      <td>(wvs_w7, wvs)</td>\n",
       "      <td>1.000000</td>\n",
       "    </tr>\n",
       "    <tr>\n",
       "      <th>5</th>\n",
       "      <td>GPT3-PROBS</td>\n",
       "      <td>0.612330</td>\n",
       "      <td>1.168913e-02</td>\n",
       "      <td>(pew, pew)</td>\n",
       "      <td>0.140270</td>\n",
       "    </tr>\n",
       "    <tr>\n",
       "      <th>6</th>\n",
       "      <td>GPT2</td>\n",
       "      <td>0.578917</td>\n",
       "      <td>1.402349e-04</td>\n",
       "      <td>(wvs_w7, wvs)</td>\n",
       "      <td>0.001683</td>\n",
       "    </tr>\n",
       "    <tr>\n",
       "      <th>7</th>\n",
       "      <td>GPT2</td>\n",
       "      <td>-0.186945</td>\n",
       "      <td>4.881381e-01</td>\n",
       "      <td>(pew, pew)</td>\n",
       "      <td>1.000000</td>\n",
       "    </tr>\n",
       "    <tr>\n",
       "      <th>8</th>\n",
       "      <td>GPT2-MEDIUM</td>\n",
       "      <td>0.734233</td>\n",
       "      <td>1.550961e-07</td>\n",
       "      <td>(wvs_w7, wvs)</td>\n",
       "      <td>0.000002</td>\n",
       "    </tr>\n",
       "    <tr>\n",
       "      <th>9</th>\n",
       "      <td>GPT2-MEDIUM</td>\n",
       "      <td>-0.280820</td>\n",
       "      <td>2.920884e-01</td>\n",
       "      <td>(pew, pew)</td>\n",
       "      <td>1.000000</td>\n",
       "    </tr>\n",
       "    <tr>\n",
       "      <th>10</th>\n",
       "      <td>GPT3-QA</td>\n",
       "      <td>-0.319585</td>\n",
       "      <td>5.047953e-02</td>\n",
       "      <td>(wvs_w7, wvs)</td>\n",
       "      <td>0.605754</td>\n",
       "    </tr>\n",
       "    <tr>\n",
       "      <th>11</th>\n",
       "      <td>GPT3-QA</td>\n",
       "      <td>0.436027</td>\n",
       "      <td>9.134425e-02</td>\n",
       "      <td>(pew, pew)</td>\n",
       "      <td>1.000000</td>\n",
       "    </tr>\n",
       "  </tbody>\n",
       "</table>\n",
       "</div>"
      ],
      "text/plain": [
       "          model         r             p           data  corrected p\n",
       "0         SBERT  0.618220  3.532108e-05  (wvs_w7, wvs)     0.000424\n",
       "1         SBERT -0.480666  5.947505e-02     (pew, pew)     0.713701\n",
       "2    GPT2-LARGE  0.223093  1.781945e-01  (wvs_w7, wvs)     1.000000\n",
       "3    GPT2-LARGE  0.149994  5.792638e-01     (pew, pew)     1.000000\n",
       "4    GPT3-PROBS  0.183873  2.691321e-01  (wvs_w7, wvs)     1.000000\n",
       "5    GPT3-PROBS  0.612330  1.168913e-02     (pew, pew)     0.140270\n",
       "6          GPT2  0.578917  1.402349e-04  (wvs_w7, wvs)     0.001683\n",
       "7          GPT2 -0.186945  4.881381e-01     (pew, pew)     1.000000\n",
       "8   GPT2-MEDIUM  0.734233  1.550961e-07  (wvs_w7, wvs)     0.000002\n",
       "9   GPT2-MEDIUM -0.280820  2.920884e-01     (pew, pew)     1.000000\n",
       "10      GPT3-QA -0.319585  5.047953e-02  (wvs_w7, wvs)     0.605754\n",
       "11      GPT3-QA  0.436027  9.134425e-02     (pew, pew)     1.000000"
      ]
     },
     "execution_count": 15,
     "metadata": {},
     "output_type": "execute_result"
    }
   ],
   "source": [
    "df"
   ]
  },
  {
   "cell_type": "code",
   "execution_count": null,
   "id": "22a7dac0",
   "metadata": {},
   "outputs": [],
   "source": []
  }
 ],
 "metadata": {
  "kernelspec": {
   "display_name": "Python 3 (ipykernel)",
   "language": "python",
   "name": "python3"
  },
  "language_info": {
   "codemirror_mode": {
    "name": "ipython",
    "version": 3
   },
   "file_extension": ".py",
   "mimetype": "text/x-python",
   "name": "python",
   "nbconvert_exporter": "python",
   "pygments_lexer": "ipython3",
   "version": "3.9.6"
  }
 },
 "nbformat": 4,
 "nbformat_minor": 5
}
