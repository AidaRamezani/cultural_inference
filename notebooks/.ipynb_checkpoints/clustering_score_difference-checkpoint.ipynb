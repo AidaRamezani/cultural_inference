{
 "cells": [
  {
   "cell_type": "code",
   "execution_count": 1,
   "id": "628b771b",
   "metadata": {},
   "outputs": [],
   "source": [
    "import pandas as pd\n",
    "import numpy as np\n",
    "import seaborn as sns\n",
    "import matplotlib.pyplot as plt\n",
    "from scipy import stats"
   ]
  },
  {
   "cell_type": "code",
   "execution_count": 2,
   "id": "34960e3f",
   "metadata": {},
   "outputs": [],
   "source": [
    "data = pd.read_csv(f'../data/new_res/wvs_w7_gpt3_token_pairs_people.csv')"
   ]
  },
  {
   "cell_type": "code",
   "execution_count": 3,
   "id": "5b044a06",
   "metadata": {},
   "outputs": [],
   "source": [
    "continents_df = pd.read_csv('../data/Countries-Continents.csv')\n",
    "continents = continents_df.Continent.unique()\n",
    "variations = pd.read_csv('../data/variations.csv')"
   ]
  },
  {
   "cell_type": "code",
   "execution_count": 4,
   "id": "48239b09",
   "metadata": {},
   "outputs": [],
   "source": [
    "clusters_df= pd.read_csv(f'../data/rich_west_wvs.csv')\n",
    "clusters = list(clusters_df.rich_west.unique())\n",
    "        "
   ]
  },
  {
   "cell_type": "code",
   "execution_count": 5,
   "id": "b2ef02c6",
   "metadata": {},
   "outputs": [],
   "source": [
    "rich_west = list(clusters_df.loc[clusters_df.rich_west == True].country.unique())"
   ]
  },
  {
   "cell_type": "code",
   "execution_count": 6,
   "id": "3aee61b0",
   "metadata": {},
   "outputs": [],
   "source": [
    "data = data.loc[~pd.isna(data.wvs_score) & ~(pd.isna(data['log prob difference']))]"
   ]
  },
  {
   "cell_type": "code",
   "execution_count": 7,
   "id": "daa93ad9",
   "metadata": {},
   "outputs": [],
   "source": [
    "data['z(log prob difference)'] = stats.zscore(data['log prob difference'])"
   ]
  },
  {
   "cell_type": "code",
   "execution_count": 8,
   "id": "4799e2bb",
   "metadata": {},
   "outputs": [],
   "source": [
    "data['z(human)'] =  stats.zscore(data['wvs_score'])"
   ]
  },
  {
   "cell_type": "code",
   "execution_count": 9,
   "id": "ac45c3ba",
   "metadata": {},
   "outputs": [],
   "source": [
    "rich_west_df = data.loc[data.country.isin(rich_west)]\n",
    "non_rich_west_df = data.loc[~data.country.isin(rich_west)]"
   ]
  },
  {
   "cell_type": "code",
   "execution_count": 10,
   "id": "339d6b36",
   "metadata": {},
   "outputs": [
    {
     "data": {
      "text/plain": [
       "MannwhitneyuResult(statistic=23441.0, pvalue=0.9025758168801288)"
      ]
     },
     "execution_count": 10,
     "metadata": {},
     "output_type": "execute_result"
    }
   ],
   "source": [
    "stats.mannwhitneyu(rich_west_df['z(human)'], rich_west_df['z(log prob difference)'], alternative='less')"
   ]
  },
  {
   "cell_type": "code",
   "execution_count": 11,
   "id": "88879fea",
   "metadata": {},
   "outputs": [
    {
     "data": {
      "text/plain": [
       "MannwhitneyuResult(statistic=309366.0, pvalue=0.0032854494435710507)"
      ]
     },
     "execution_count": 11,
     "metadata": {},
     "output_type": "execute_result"
    }
   ],
   "source": [
    "stats.mannwhitneyu(non_rich_west_df['z(human)'], non_rich_west_df['z(log prob difference)'], alternative='less')"
   ]
  },
  {
   "cell_type": "code",
   "execution_count": 12,
   "id": "43de908e",
   "metadata": {},
   "outputs": [],
   "source": [
    "controvery_sorted = list(variations.loc[variations.dataname == 'WVS'].sort_values(by = 'user variation',ascending = False)['topic'])"
   ]
  },
  {
   "cell_type": "code",
   "execution_count": 13,
   "id": "d34ae0df",
   "metadata": {
    "scrolled": true
   },
   "outputs": [
    {
     "data": {
      "text/plain": [
       "['sex before marriage',\n",
       " 'homosexuality',\n",
       " 'euthanasia',\n",
       " 'divorce',\n",
       " 'having casual sex',\n",
       " 'abortion',\n",
       " 'death penalty',\n",
       " 'prostitution',\n",
       " 'parents beating children',\n",
       " 'claiming government benefits to which you are not entitled',\n",
       " 'suicide',\n",
       " 'avoiding a fare on public transport',\n",
       " 'cheating on taxes',\n",
       " 'someone accepting a bribe in the course of their duties',\n",
       " 'terrorism as a political, ideological or religious mean',\n",
       " 'political violence',\n",
       " 'for a man to beat his wife',\n",
       " 'violence against other people',\n",
       " 'stealing property']"
      ]
     },
     "execution_count": 13,
     "metadata": {},
     "output_type": "execute_result"
    }
   ],
   "source": [
    "controvery_sorted"
   ]
  },
  {
   "cell_type": "code",
   "execution_count": 14,
   "id": "44a7fe12",
   "metadata": {},
   "outputs": [],
   "source": [
    "topics = data.topic.unique()\n",
    "list_rows = []\n",
    "for t in list(topics):\n",
    "    r_df = rich_west_df.loc[rich_west_df.topic == t]\n",
    "    non_r_df = non_rich_west_df.loc[non_rich_west_df.topic == t]\n",
    "    s, p = stats.mannwhitneyu(r_df['z(human)'], r_df['z(log prob difference)'], alternative='less')\n",
    "    list_rows.append({'topic':t, 's':s, 'p':p, 'group' : 'rich west','rank':controvery_sorted.index(t)},)\n",
    "    s, p = stats.mannwhitneyu(non_r_df['z(human)'], non_r_df['z(log prob difference)'], alternative='less')\n",
    "    list_rows.append({'topic':t, 's':s, 'p':p, 'group' : 'non rich west','rank':controvery_sorted.index(t)})"
   ]
  },
  {
   "cell_type": "code",
   "execution_count": 15,
   "id": "0005fcde",
   "metadata": {},
   "outputs": [
    {
     "ename": "NameError",
     "evalue": "name 'multipletests' is not defined",
     "output_type": "error",
     "traceback": [
      "\u001b[0;31m---------------------------------------------------------------------------\u001b[0m",
      "\u001b[0;31mNameError\u001b[0m                                 Traceback (most recent call last)",
      "\u001b[0;32m/var/folders/05/1_h8k5ns3f9b6j4pz3zct65r0000gn/T/ipykernel_78804/622039529.py\u001b[0m in \u001b[0;36m<module>\u001b[0;34m\u001b[0m\n\u001b[1;32m      1\u001b[0m \u001b[0mstats_df\u001b[0m \u001b[0;34m=\u001b[0m \u001b[0mpd\u001b[0m\u001b[0;34m.\u001b[0m\u001b[0mDataFrame\u001b[0m\u001b[0;34m(\u001b[0m\u001b[0mlist_rows\u001b[0m\u001b[0;34m)\u001b[0m\u001b[0;34m\u001b[0m\u001b[0;34m\u001b[0m\u001b[0m\n\u001b[0;32m----> 2\u001b[0;31m \u001b[0mstats_df\u001b[0m\u001b[0;34m[\u001b[0m\u001b[0;34m'p'\u001b[0m\u001b[0;34m]\u001b[0m \u001b[0;34m=\u001b[0m \u001b[0mmultipletests\u001b[0m\u001b[0;34m(\u001b[0m\u001b[0mstats_df\u001b[0m\u001b[0;34m[\u001b[0m\u001b[0;34m'p'\u001b[0m\u001b[0;34m]\u001b[0m\u001b[0;34m,\u001b[0m \u001b[0mmethod\u001b[0m \u001b[0;34m=\u001b[0m \u001b[0;34m'bonferroni'\u001b[0m\u001b[0;34m)\u001b[0m\u001b[0;34m[\u001b[0m\u001b[0;36m1\u001b[0m\u001b[0;34m]\u001b[0m\u001b[0;34m\u001b[0m\u001b[0;34m\u001b[0m\u001b[0m\n\u001b[0m\u001b[1;32m      3\u001b[0m \u001b[0mstats_df\u001b[0m\u001b[0;34m[\u001b[0m\u001b[0;34m'res'\u001b[0m\u001b[0;34m]\u001b[0m \u001b[0;34m=\u001b[0m \u001b[0mmultipletests\u001b[0m\u001b[0;34m(\u001b[0m\u001b[0mstats_df\u001b[0m\u001b[0;34m[\u001b[0m\u001b[0;34m'p'\u001b[0m\u001b[0;34m]\u001b[0m\u001b[0;34m,\u001b[0m \u001b[0mmethod\u001b[0m \u001b[0;34m=\u001b[0m \u001b[0;34m'bonferroni'\u001b[0m\u001b[0;34m)\u001b[0m\u001b[0;34m[\u001b[0m\u001b[0;36m0\u001b[0m\u001b[0;34m]\u001b[0m\u001b[0;34m\u001b[0m\u001b[0;34m\u001b[0m\u001b[0m\n",
      "\u001b[0;31mNameError\u001b[0m: name 'multipletests' is not defined"
     ]
    }
   ],
   "source": [
    "stats_df = pd.DataFrame(list_rows)\n",
    "stats_df['p'] = multipletests(stats_df['p'], method = 'bonferroni')[1]\n",
    "stats_df['res'] = multipletests(stats_df['p'], method = 'bonferroni')[0]"
   ]
  },
  {
   "cell_type": "code",
   "execution_count": 375,
   "id": "8e92b16e",
   "metadata": {
    "scrolled": true
   },
   "outputs": [
    {
     "data": {
      "text/html": [
       "<div>\n",
       "<style scoped>\n",
       "    .dataframe tbody tr th:only-of-type {\n",
       "        vertical-align: middle;\n",
       "    }\n",
       "\n",
       "    .dataframe tbody tr th {\n",
       "        vertical-align: top;\n",
       "    }\n",
       "\n",
       "    .dataframe thead th {\n",
       "        text-align: right;\n",
       "    }\n",
       "</style>\n",
       "<table border=\"1\" class=\"dataframe\">\n",
       "  <thead>\n",
       "    <tr style=\"text-align: right;\">\n",
       "      <th></th>\n",
       "      <th>topic</th>\n",
       "      <th>s</th>\n",
       "      <th>p</th>\n",
       "      <th>group</th>\n",
       "      <th>rank</th>\n",
       "      <th>res</th>\n",
       "    </tr>\n",
       "  </thead>\n",
       "  <tbody>\n",
       "    <tr>\n",
       "      <th>15</th>\n",
       "      <td>abortion</td>\n",
       "      <td>186.0</td>\n",
       "      <td>1.319316e-09</td>\n",
       "      <td>non rich west</td>\n",
       "      <td>5</td>\n",
       "      <td>True</td>\n",
       "    </tr>\n",
       "    <tr>\n",
       "      <th>21</th>\n",
       "      <td>suicide</td>\n",
       "      <td>347.0</td>\n",
       "      <td>4.255096e-06</td>\n",
       "      <td>non rich west</td>\n",
       "      <td>10</td>\n",
       "      <td>True</td>\n",
       "    </tr>\n",
       "    <tr>\n",
       "      <th>23</th>\n",
       "      <td>euthanasia</td>\n",
       "      <td>283.0</td>\n",
       "      <td>2.116846e-07</td>\n",
       "      <td>non rich west</td>\n",
       "      <td>2</td>\n",
       "      <td>True</td>\n",
       "    </tr>\n",
       "    <tr>\n",
       "      <th>25</th>\n",
       "      <td>for a man to beat his wife</td>\n",
       "      <td>93.0</td>\n",
       "      <td>5.550220e-12</td>\n",
       "      <td>non rich west</td>\n",
       "      <td>16</td>\n",
       "      <td>True</td>\n",
       "    </tr>\n",
       "    <tr>\n",
       "      <th>33</th>\n",
       "      <td>having casual sex</td>\n",
       "      <td>234.0</td>\n",
       "      <td>1.003694e-06</td>\n",
       "      <td>non rich west</td>\n",
       "      <td>4</td>\n",
       "      <td>True</td>\n",
       "    </tr>\n",
       "    <tr>\n",
       "      <th>35</th>\n",
       "      <td>political violence</td>\n",
       "      <td>323.0</td>\n",
       "      <td>3.977763e-06</td>\n",
       "      <td>non rich west</td>\n",
       "      <td>15</td>\n",
       "      <td>True</td>\n",
       "    </tr>\n",
       "    <tr>\n",
       "      <th>37</th>\n",
       "      <td>death penalty</td>\n",
       "      <td>440.0</td>\n",
       "      <td>2.036430e-04</td>\n",
       "      <td>non rich west</td>\n",
       "      <td>6</td>\n",
       "      <td>True</td>\n",
       "    </tr>\n",
       "  </tbody>\n",
       "</table>\n",
       "</div>"
      ],
      "text/plain": [
       "                         topic      s             p          group  rank   res\n",
       "15                    abortion  186.0  1.319316e-09  non rich west     5  True\n",
       "21                     suicide  347.0  4.255096e-06  non rich west    10  True\n",
       "23                  euthanasia  283.0  2.116846e-07  non rich west     2  True\n",
       "25  for a man to beat his wife   93.0  5.550220e-12  non rich west    16  True\n",
       "33           having casual sex  234.0  1.003694e-06  non rich west     4  True\n",
       "35          political violence  323.0  3.977763e-06  non rich west    15  True\n",
       "37               death penalty  440.0  2.036430e-04  non rich west     6  True"
      ]
     },
     "execution_count": 375,
     "metadata": {},
     "output_type": "execute_result"
    }
   ],
   "source": [
    "negative_topics = stats_df.loc[stats_df.group == 'non rich west'].loc[stats_df.p < 0.001]\n",
    "negative_topics"
   ]
  },
  {
   "cell_type": "code",
   "execution_count": 223,
   "id": "b1de8809",
   "metadata": {},
   "outputs": [
    {
     "data": {
      "text/html": [
       "<div>\n",
       "<style scoped>\n",
       "    .dataframe tbody tr th:only-of-type {\n",
       "        vertical-align: middle;\n",
       "    }\n",
       "\n",
       "    .dataframe tbody tr th {\n",
       "        vertical-align: top;\n",
       "    }\n",
       "\n",
       "    .dataframe thead th {\n",
       "        text-align: right;\n",
       "    }\n",
       "</style>\n",
       "<table border=\"1\" class=\"dataframe\">\n",
       "  <thead>\n",
       "    <tr style=\"text-align: right;\">\n",
       "      <th></th>\n",
       "      <th>topic</th>\n",
       "      <th>s</th>\n",
       "      <th>p</th>\n",
       "      <th>group</th>\n",
       "      <th>rank</th>\n",
       "    </tr>\n",
       "  </thead>\n",
       "  <tbody>\n",
       "    <tr>\n",
       "      <th>1</th>\n",
       "      <td>claiming government benefits to which you are ...</td>\n",
       "      <td>1766.0</td>\n",
       "      <td>1.000000</td>\n",
       "      <td>non rich west</td>\n",
       "      <td>9</td>\n",
       "    </tr>\n",
       "    <tr>\n",
       "      <th>7</th>\n",
       "      <td>cheating on taxes</td>\n",
       "      <td>1393.0</td>\n",
       "      <td>0.999808</td>\n",
       "      <td>non rich west</td>\n",
       "      <td>12</td>\n",
       "    </tr>\n",
       "    <tr>\n",
       "      <th>9</th>\n",
       "      <td>someone accepting a bribe in the course of the...</td>\n",
       "      <td>1810.0</td>\n",
       "      <td>1.000000</td>\n",
       "      <td>non rich west</td>\n",
       "      <td>13</td>\n",
       "    </tr>\n",
       "    <tr>\n",
       "      <th>19</th>\n",
       "      <td>sex before marriage</td>\n",
       "      <td>1623.0</td>\n",
       "      <td>1.000000</td>\n",
       "      <td>non rich west</td>\n",
       "      <td>0</td>\n",
       "    </tr>\n",
       "  </tbody>\n",
       "</table>\n",
       "</div>"
      ],
      "text/plain": [
       "                                                topic       s         p  \\\n",
       "1   claiming government benefits to which you are ...  1766.0  1.000000   \n",
       "7                                   cheating on taxes  1393.0  0.999808   \n",
       "9   someone accepting a bribe in the course of the...  1810.0  1.000000   \n",
       "19                                sex before marriage  1623.0  1.000000   \n",
       "\n",
       "            group  rank  \n",
       "1   non rich west     9  \n",
       "7   non rich west    12  \n",
       "9   non rich west    13  \n",
       "19  non rich west     0  "
      ]
     },
     "execution_count": 223,
     "metadata": {},
     "output_type": "execute_result"
    }
   ],
   "source": [
    "positive_topics = stats_df.loc[stats_df.group == 'non rich west'].loc[(1 - stats_df.p) < 0.001]\n",
    "positive_topics"
   ]
  },
  {
   "cell_type": "code",
   "execution_count": 207,
   "id": "e3548be3",
   "metadata": {},
   "outputs": [
    {
     "name": "stderr",
     "output_type": "stream",
     "text": [
      "/var/folders/05/1_h8k5ns3f9b6j4pz3zct65r0000gn/T/ipykernel_53873/2975466497.py:1: SettingWithCopyWarning: \n",
      "A value is trying to be set on a copy of a slice from a DataFrame.\n",
      "Try using .loc[row_indexer,col_indexer] = value instead\n",
      "\n",
      "See the caveats in the documentation: https://pandas.pydata.org/pandas-docs/stable/user_guide/indexing.html#returning-a-view-versus-a-copy\n",
      "  non_rich_west_df['z_difference'] = non_rich_west_df['z(human)'] - non_rich_west_df['z(log prob difference)']\n",
      "/var/folders/05/1_h8k5ns3f9b6j4pz3zct65r0000gn/T/ipykernel_53873/2975466497.py:2: SettingWithCopyWarning: \n",
      "A value is trying to be set on a copy of a slice from a DataFrame.\n",
      "Try using .loc[row_indexer,col_indexer] = value instead\n",
      "\n",
      "See the caveats in the documentation: https://pandas.pydata.org/pandas-docs/stable/user_guide/indexing.html#returning-a-view-versus-a-copy\n",
      "  non_rich_west_df['sign'] = [t in list(negative_topics.topic) for t in non_rich_west_df['topic']]\n"
     ]
    }
   ],
   "source": [
    "non_rich_west_df['z_difference'] = non_rich_west_df['z(human)'] - non_rich_west_df['z(log prob difference)']\n",
    "non_rich_west_df['sign'] = [t in list(negative_topics.topic) for t in non_rich_west_df['topic']]"
   ]
  },
  {
   "cell_type": "code",
   "execution_count": 208,
   "id": "4782cae1",
   "metadata": {},
   "outputs": [
    {
     "data": {
      "image/png": "[encoded data removed]",
      "text/plain": [
       "<Figure size 432x288 with 1 Axes>"
      ]
     },
     "metadata": {
      "needs_background": "light"
     },
     "output_type": "display_data"
    }
   ],
   "source": [
    "g = sns.boxplot(data = non_rich_west_df, y = 'topic', x = 'z_difference',hue = 'sign')\n",
    "plt.legend().remove()\n",
    "plt.axvline(x = 0, color = 'red')\n",
    "plt.ylabel('')\n",
    "plt.xlabel('Zscore(human rating) - Zscore(model moral score)')\n",
    "sns.despine(left = False)"
   ]
  },
  {
   "cell_type": "code",
   "execution_count": 224,
   "id": "e9c40cfc",
   "metadata": {},
   "outputs": [
    {
     "name": "stderr",
     "output_type": "stream",
     "text": [
      "/var/folders/05/1_h8k5ns3f9b6j4pz3zct65r0000gn/T/ipykernel_53873/3989390972.py:1: SettingWithCopyWarning: \n",
      "A value is trying to be set on a copy of a slice from a DataFrame.\n",
      "Try using .loc[row_indexer,col_indexer] = value instead\n",
      "\n",
      "See the caveats in the documentation: https://pandas.pydata.org/pandas-docs/stable/user_guide/indexing.html#returning-a-view-versus-a-copy\n",
      "  rich_west_df['z_difference'] = rich_west_df['z(human)'] - rich_west_df['z(log prob difference)']\n",
      "/var/folders/05/1_h8k5ns3f9b6j4pz3zct65r0000gn/T/ipykernel_53873/3989390972.py:3: SettingWithCopyWarning: \n",
      "A value is trying to be set on a copy of a slice from a DataFrame.\n",
      "Try using .loc[row_indexer,col_indexer] = value instead\n",
      "\n",
      "See the caveats in the documentation: https://pandas.pydata.org/pandas-docs/stable/user_guide/indexing.html#returning-a-view-versus-a-copy\n",
      "  rich_west_df['sign'] = [t in list(negative_topics.topic) for t in rich_west_df['topic']]\n"
     ]
    }
   ],
   "source": [
    "rich_west_df['z_difference'] = rich_west_df['z(human)'] - rich_west_df['z(log prob difference)']\n",
    "negative_topics = stats_df.loc[stats_df.group == 'rich west'].loc[stats_df.p < 0.001]\n",
    "rich_west_df['sign'] = [t in list(negative_topics.topic) for t in rich_west_df['topic']]"
   ]
  },
  {
   "cell_type": "code",
   "execution_count": 176,
   "id": "8c4a73dc",
   "metadata": {},
   "outputs": [
    {
     "data": {
      "image/png": "[encoded data removed]",
      "text/plain": [
       "<Figure size 432x288 with 1 Axes>"
      ]
     },
     "metadata": {
      "needs_background": "light"
     },
     "output_type": "display_data"
    }
   ],
   "source": [
    "g = sns.boxplot(data = rich_west_df, y = 'topic', x = 'z_difference',hue = 'sign')\n",
    "plt.legend().remove()\n",
    "plt.axvline(x = 0, color = 'red')\n",
    "plt.ylabel('')\n",
    "plt.xlabel('Zscore(human rating) - Zscore(model moral score)')\n",
    "sns.despine(left = False)"
   ]
  },
  {
   "cell_type": "code",
   "execution_count": 225,
   "id": "c163928b",
   "metadata": {},
   "outputs": [
    {
     "data": {
      "text/html": [
       "<div>\n",
       "<style scoped>\n",
       "    .dataframe tbody tr th:only-of-type {\n",
       "        vertical-align: middle;\n",
       "    }\n",
       "\n",
       "    .dataframe tbody tr th {\n",
       "        vertical-align: top;\n",
       "    }\n",
       "\n",
       "    .dataframe thead th {\n",
       "        text-align: right;\n",
       "    }\n",
       "</style>\n",
       "<table border=\"1\" class=\"dataframe\">\n",
       "  <thead>\n",
       "    <tr style=\"text-align: right;\">\n",
       "      <th></th>\n",
       "      <th>topic</th>\n",
       "      <th>s</th>\n",
       "      <th>p</th>\n",
       "      <th>group</th>\n",
       "      <th>rank</th>\n",
       "    </tr>\n",
       "  </thead>\n",
       "  <tbody>\n",
       "    <tr>\n",
       "      <th>10</th>\n",
       "      <td>homosexuality</td>\n",
       "      <td>113.0</td>\n",
       "      <td>0.999750</td>\n",
       "      <td>rich west</td>\n",
       "      <td>1</td>\n",
       "    </tr>\n",
       "    <tr>\n",
       "      <th>16</th>\n",
       "      <td>divorce</td>\n",
       "      <td>115.0</td>\n",
       "      <td>0.999848</td>\n",
       "      <td>rich west</td>\n",
       "      <td>3</td>\n",
       "    </tr>\n",
       "    <tr>\n",
       "      <th>18</th>\n",
       "      <td>sex before marriage</td>\n",
       "      <td>121.0</td>\n",
       "      <td>0.999969</td>\n",
       "      <td>rich west</td>\n",
       "      <td>0</td>\n",
       "    </tr>\n",
       "  </tbody>\n",
       "</table>\n",
       "</div>"
      ],
      "text/plain": [
       "                  topic      s         p      group  rank\n",
       "10        homosexuality  113.0  0.999750  rich west     1\n",
       "16              divorce  115.0  0.999848  rich west     3\n",
       "18  sex before marriage  121.0  0.999969  rich west     0"
      ]
     },
     "execution_count": 225,
     "metadata": {},
     "output_type": "execute_result"
    }
   ],
   "source": [
    "positive_topics = stats_df.loc[stats_df.group == 'rich west'].loc[(1 - stats_df.p) < 0.001]\n",
    "positive_topics"
   ]
  },
  {
   "cell_type": "code",
   "execution_count": null,
   "id": "347ae40c",
   "metadata": {},
   "outputs": [],
   "source": []
  }
 ],
 "metadata": {
  "kernelspec": {
   "display_name": "Python 3 (ipykernel)",
   "language": "python",
   "name": "python3"
  },
  "language_info": {
   "codemirror_mode": {
    "name": "ipython",
    "version": 3
   },
   "file_extension": ".py",
   "mimetype": "text/x-python",
   "name": "python",
   "nbconvert_exporter": "python",
   "pygments_lexer": "ipython3",
   "version": "3.9.6"
  }
 },
 "nbformat": 4,
 "nbformat_minor": 5
}
