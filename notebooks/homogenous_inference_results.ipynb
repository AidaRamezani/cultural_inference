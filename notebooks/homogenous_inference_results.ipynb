{
 "cells": [
  {
   "cell_type": "code",
   "execution_count": 1,
   "id": "b715aa8f",
   "metadata": {},
   "outputs": [],
   "source": [
    "import pandas as pd\n",
    "import numpy as np\n",
    "import scipy.stats\n",
    "import matplotlib.pyplot as plt\n",
    "import seaborn as sns\n",
    "import pickle"
   ]
  },
  {
   "cell_type": "markdown",
   "id": "d4403c3b",
   "metadata": {},
   "source": [
    "### Loading the results"
   ]
  },
  {
   "cell_type": "code",
   "execution_count": 37,
   "id": "18dae12c",
   "metadata": {},
   "outputs": [],
   "source": [
    "wave = 7\n",
    "\n",
    "wvs_mcm = pd.read_csv(f'../data/wvs_w{wave}_mcm.csv')\n",
    "wvs_gpt3 = pd.read_csv('../data/wvs_w7_gpt3.csv')\n",
    "wvs_gpt3_token_pairs = pd.read_csv('../data/wvs_w7_gpt3_token_pairs.csv')\n",
    "wvs_gpt2 = pd.read_csv('../data/wvs_w7_gpt2_token_pairs.csv')\n",
    "wvs_gpt2_universal = wvs_gpt2.loc[wvs_gpt2.country == 'universal']\n",
    "uni_wvs_gp3 = pd.read_csv('../data/universal_wvs_w7_gpt3.csv')\n",
    "\n",
    "\n",
    "pew_mcm = pd.read_csv('../data/pew_mcm.csv')\n",
    "pew_gpt = pd.read_csv('../data/pew_gpt3.csv')\n",
    "pew_gpt3_token_pairs = pd.read_csv('../data/pew_gpt3_token_pairs.csv')\n",
    "pew_gpt2 = pd.read_csv('../data/pew_gpt2_token_pairs.csv')\n",
    "uni_pew_gpt = pd.read_csv('../data/universal_pew_gpt3.csv')\n"
   ]
  },
  {
   "cell_type": "code",
   "execution_count": 46,
   "id": "904cdc10",
   "metadata": {},
   "outputs": [],
   "source": [
    "list_rows = []"
   ]
  },
  {
   "cell_type": "markdown",
   "id": "3b5330fd",
   "metadata": {},
   "source": [
    "SBERT"
   ]
  },
  {
   "cell_type": "code",
   "execution_count": 47,
   "id": "d77f5745",
   "metadata": {},
   "outputs": [],
   "source": [
    "\n",
    "wvs_mcm_nan_removed = wvs_mcm.loc[~pd.isna(wvs_mcm.wvs_score)]\n",
    "r, p = scipy.stats.pearsonr(wvs_mcm_nan_removed['wvs_score'], wvs_mcm_nan_removed['universal_mcm_score'])\n",
    "row = {'model': 'SBERT', 'r': r, 'p':p, 'dataset': 'WVS', 'n' : len(wvs_mcm_nan_removed['wvs_score'])}\n",
    "list_rows.append(row)\n",
    "\n",
    "r, p = scipy.stats.pearsonr(pew_mcm['pew_score'], pew_mcm['universal_mcm_score'])\n",
    "row = {'model': 'SBERT', 'r': r, 'p':p, 'dataset': 'PEW', 'n': len(pew_mcm['pew_score'])}\n",
    "list_rows.append(row)\n"
   ]
  },
  {
   "cell_type": "markdown",
   "id": "783a16cd",
   "metadata": {},
   "source": [
    "GPT3-QA"
   ]
  },
  {
   "cell_type": "code",
   "execution_count": 49,
   "id": "d357c718",
   "metadata": {},
   "outputs": [],
   "source": [
    "wvs_gpt3 = wvs_gpt3.loc[~pd.isna(wvs_gpt3.wvs_score)]\n",
    "uni_wvs_gp3 = uni_wvs_gp3.loc[~pd.isna(uni_wvs_gp3['wvs_score'])]\n",
    "scipy.stats.pearsonr(uni_wvs_gp3['wvs_score'], uni_wvs_gp3['gpt3_score_mean'])\n",
    "r, p = scipy.stats.pearsonr(uni_wvs_gp3['wvs_score'], uni_wvs_gp3['gpt3_score_mean'])\n",
    "row = {'model': 'GPT3-QA', 'r': r, 'p':p, 'dataset': 'WVS','n':len(uni_wvs_gp3['wvs_score'])}\n",
    "list_rows.append(row)\n",
    "\n",
    "\n",
    "r, p = scipy.stats.pearsonr(uni_pew_gpt['pew_score'], uni_pew_gpt['gpt3_score_mean'])\n",
    "row = {'model': 'GPT3-QA', 'r': r, 'p':p, 'dataset': 'PEW', 'n':len(uni_pew_gpt['pew_score'])}\n",
    "list_rows.append(row)"
   ]
  },
  {
   "cell_type": "markdown",
   "id": "75654fc0",
   "metadata": {},
   "source": [
    "GPT3-PROBS"
   ]
  },
  {
   "cell_type": "code",
   "execution_count": 26,
   "id": "9b48fb03",
   "metadata": {},
   "outputs": [
    {
     "name": "stderr",
     "output_type": "stream",
     "text": [
      "/var/folders/05/1_h8k5ns3f9b6j4pz3zct65r0000gn/T/ipykernel_8691/2045107598.py:14: SettingWithCopyWarning: \n",
      "A value is trying to be set on a copy of a slice from a DataFrame.\n",
      "Try using .loc[row_indexer,col_indexer] = value instead\n",
      "\n",
      "See the caveats in the documentation: https://pandas.pydata.org/pandas-docs/stable/user_guide/indexing.html#returning-a-view-versus-a-copy\n",
      "  pew_gpt3_token_pairs_cultural['universal log prob difference'] = \\\n"
     ]
    }
   ],
   "source": [
    "wvs_gpt3_token_pairs_cultural = wvs_gpt3_token_pairs.loc[wvs_gpt3_token_pairs['country'] != 'universal']\n",
    "wvs_gpt3_token_pairs_cultural = wvs_gpt3_token_pairs_cultural.loc[~pd.isna(wvs_gpt3_token_pairs_cultural['wvs_score'])]\n",
    "wvs_gpt3_token_pairs_universal = wvs_gpt3_token_pairs.loc[wvs_gpt3_token_pairs['country'] == 'universal']\n",
    "\n",
    "wvs_gpt3_token_pairs_cultural['universal log prob difference'] = \\\n",
    "[float(wvs_gpt3_token_pairs_universal.loc[wvs_gpt3_token_pairs_universal.topic == t]['log prob difference']) for t in list(wvs_gpt3_token_pairs_cultural.topic)]\n",
    "r, p = scipy.stats.pearsonr(wvs_gpt3_token_pairs_cultural['wvs_score'], wvs_gpt3_token_pairs_cultural['universal log prob difference'])\n",
    "row = {'model': 'GPT3-PROBS', 'r': r, 'p':p, 'dataset': 'WVS','n':len(wvs_gpt3_token_pairs_cultural['wvs_score'])}\n",
    "list_rows.append(row)\n",
    "\n",
    "\n",
    "universal_pew_gpt3_token_pairs = pew_gpt3_token_pairs.loc[pew_gpt3_token_pairs.country == 'universal']\n",
    "pew_gpt3_token_pairs_cultural = pew_gpt3_token_pairs.loc[pew_gpt3_token_pairs.country != 'universal']\n",
    "pew_gpt3_token_pairs_cultural['universal log prob difference'] = \\\n",
    "[float(universal_pew_gpt3_token_pairs.loc[universal_pew_gpt3_token_pairs.topic == t]['log prob difference']) for t in list(pew_gpt3_token_pairs_cultural.topic)]\n",
    "r, p = scipy.stats.pearsonr(pew_gpt3_token_pairs_cultural['pew_score'], pew_gpt3_token_pairs_cultural['universal log prob difference'])\n",
    "row = {'model': 'GPT3-PROBS', 'r': r, 'p':p, 'dataset': 'PEW','n':len(pew_gpt3_token_pairs_cultural['pew_score'])}\n",
    "list_rows.append(row)\n"
   ]
  },
  {
   "cell_type": "markdown",
   "id": "64f19f8a",
   "metadata": {},
   "source": [
    "GPT2"
   ]
  },
  {
   "cell_type": "code",
   "execution_count": 27,
   "id": "1b5ccb14",
   "metadata": {},
   "outputs": [],
   "source": [
    "wvs_gpt2 = wvs_gpt2.loc[~pd.isna(wvs_gpt2.wvs_score)]\n",
    "wvs_gpt2_cultural = wvs_gpt2.loc[wvs_gpt2['country'] != 'universal']\n",
    "wvs_gpt2_cultural['universal log prob difference'] = \\\n",
    "[float(wvs_gpt2_universal.loc[wvs_gpt2_universal.topic == t]['log prob difference']) for t in list(wvs_gpt2_cultural.topic)]\n",
    "r, p = scipy.stats.pearsonr(wvs_gpt2_cultural['wvs_score'], wvs_gpt2_cultural['universal log prob difference'])\n",
    "row = {'model': 'GPT2', 'r': r, 'p':p, 'dataset': 'WVS','n':len(wvs_gpt2_cultural['wvs_score'])}\n",
    "list_rows.append(row)"
   ]
  },
  {
   "cell_type": "code",
   "execution_count": 28,
   "id": "bd91bb31",
   "metadata": {},
   "outputs": [
    {
     "name": "stderr",
     "output_type": "stream",
     "text": [
      "/var/folders/05/1_h8k5ns3f9b6j4pz3zct65r0000gn/T/ipykernel_8691/1602355441.py:27: SettingWithCopyWarning: \n",
      "A value is trying to be set on a copy of a slice from a DataFrame.\n",
      "Try using .loc[row_indexer,col_indexer] = value instead\n",
      "\n",
      "See the caveats in the documentation: https://pandas.pydata.org/pandas-docs/stable/user_guide/indexing.html#returning-a-view-versus-a-copy\n",
      "  pew_gpt2_cultural['universal log prob difference'] = \\\n",
      "/var/folders/05/1_h8k5ns3f9b6j4pz3zct65r0000gn/T/ipykernel_8691/1602355441.py:27: SettingWithCopyWarning: \n",
      "A value is trying to be set on a copy of a slice from a DataFrame.\n",
      "Try using .loc[row_indexer,col_indexer] = value instead\n",
      "\n",
      "See the caveats in the documentation: https://pandas.pydata.org/pandas-docs/stable/user_guide/indexing.html#returning-a-view-versus-a-copy\n",
      "  pew_gpt2_cultural['universal log prob difference'] = \\\n",
      "/var/folders/05/1_h8k5ns3f9b6j4pz3zct65r0000gn/T/ipykernel_8691/1602355441.py:27: SettingWithCopyWarning: \n",
      "A value is trying to be set on a copy of a slice from a DataFrame.\n",
      "Try using .loc[row_indexer,col_indexer] = value instead\n",
      "\n",
      "See the caveats in the documentation: https://pandas.pydata.org/pandas-docs/stable/user_guide/indexing.html#returning-a-view-versus-a-copy\n",
      "  pew_gpt2_cultural['universal log prob difference'] = \\\n"
     ]
    }
   ],
   "source": [
    "models = ['gpt2', 'gpt2-medium','gpt2-large']\n",
    "countries = list(wvs_mcm.country.unique())\n",
    "for model in models:\n",
    "    wvs_gpt2 = pd.read_csv(f'../data/wvs_w7_{model}_token_pairs.csv')\n",
    "    wvs_gpt2_universal = wvs_gpt2.loc[wvs_gpt2.country == 'universal']\n",
    "    \n",
    "    wvs_gpt2 = wvs_gpt2.loc[~pd.isna(wvs_gpt2.wvs_score)]\n",
    "    wvs_gpt2_cultural = wvs_gpt2.loc[wvs_gpt2['country'] != 'universal']\n",
    "    \n",
    "    wvs_gpt2_cultural['universal log prob difference'] = \\\n",
    "    [float(wvs_gpt2_universal.loc[wvs_gpt2_universal.topic == t]\\\n",
    "           ['log prob difference'].sample()) for t in list(wvs_gpt2_cultural.topic)]\n",
    "    \n",
    "    \n",
    "    \n",
    "    r, p = scipy.stats.pearsonr(wvs_gpt2_cultural['wvs_score'], \n",
    "                                wvs_gpt2_cultural['universal log prob difference'])\n",
    "    \n",
    "    row = {'model': model.upper(), 'r': r, 'p':p, 'dataset': 'WVS','n':len(wvs_gpt2_cultural['wvs_score'])}\n",
    "    list_rows.append(row)\n",
    "    \n",
    "    \n",
    "    pew_gpt2 = pd.read_csv(f'../data/pew_{model}_token_pairs.csv')\n",
    "    pew_gpt2_cultural = pew_gpt2.loc[pew_gpt2['country'] != 'universal']\n",
    "     \n",
    "    universal_pew_gpt2 = pew_gpt2.loc[pew_gpt2.country == 'universal']\n",
    "    pew_gpt2_cultural['universal log prob difference'] = \\\n",
    "    [float(universal_pew_gpt2.loc[universal_pew_gpt2.topic == t]['log prob difference'].sample()) for t in list(pew_gpt2_cultural.topic)]\n",
    "    r, p = scipy.stats.pearsonr(pew_gpt2_cultural['pew_score'], \\\n",
    "                                pew_gpt2_cultural['universal log prob difference'])\n",
    "    \n",
    "    row = {'model': model.upper(), 'r': r, 'p':p, 'dataset': 'PEW','n':len(pew_gpt2_cultural['pew_score'])}\n",
    "    list_rows.append(row)\n",
    "\n"
   ]
  },
  {
   "cell_type": "markdown",
   "id": "d4ec6ddb",
   "metadata": {},
   "source": [
    "# Homogeneous norms"
   ]
  },
  {
   "cell_type": "markdown",
   "id": "e2caf05e",
   "metadata": {},
   "source": [
    "SBERT"
   ]
  },
  {
   "cell_type": "code",
   "execution_count": 29,
   "id": "df5e2255",
   "metadata": {},
   "outputs": [],
   "source": [
    "row = {'model':'SBERT','r' : 0.79, 'p': None, 'dataset' : 'Homogeneous norms'}\n",
    "list_rows.append(row)"
   ]
  },
  {
   "cell_type": "markdown",
   "id": "93dd494e",
   "metadata": {},
   "source": [
    "GPT3-QA"
   ]
  },
  {
   "cell_type": "code",
   "execution_count": 30,
   "id": "bdb3b050",
   "metadata": {},
   "outputs": [],
   "source": [
    "gpt3_amt = pd.read_csv(f'../data/MorT_actions/gpt3_mort_userstudy_globalAMT.csv')\n",
    "r, p = scipy.stats.pearsonr(gpt3_amt['gpt3_score_mean'], gpt3_amt['user_score'])\n",
    "row = {'model':'GPT3-QA','r' : r, 'p': p, 'dataset' : 'Homogeneous norms','n':len(gpt3_amt['user_score'])}\n",
    "list_rows.append(row)"
   ]
  },
  {
   "cell_type": "markdown",
   "id": "3f2db5b7",
   "metadata": {},
   "source": [
    "GPT3-PROBS"
   ]
  },
  {
   "cell_type": "code",
   "execution_count": 31,
   "id": "08b20e17",
   "metadata": {},
   "outputs": [],
   "source": [
    "gpt3_amt = pd.read_csv(f'../data/MorT_actions/gpt3_mort_userstudy_globalAMT_token_pairs.csv')\n",
    "gpt3_amt = gpt3_amt.loc[~pd.isna(gpt3_amt['user_score_globalAMT'])]\n",
    "r, p = scipy.stats.pearsonr(gpt3_amt['log prob difference'], gpt3_amt['user_score_globalAMT'])\n",
    "row = {'model':'GPT3-PROBS','r' : r, 'p': p, 'dataset' : 'Homogeneous norms','n':len(gpt3_amt['user_score_globalAMT'])}\n",
    "list_rows.append(row)"
   ]
  },
  {
   "cell_type": "markdown",
   "id": "df61f67c",
   "metadata": {},
   "source": [
    "GPT2"
   ]
  },
  {
   "cell_type": "code",
   "execution_count": 33,
   "id": "efb8165f",
   "metadata": {},
   "outputs": [],
   "source": [
    "def get_correlation(prompts,metric_name, user_study = 'globalAMT'):\n",
    "    user_ratings = []\n",
    "    perplexity = []\n",
    "    text = []\n",
    "    does = []\n",
    "    for row in prompts:\n",
    "        if f'user_score_{user_study}' not in row:\n",
    "            continue\n",
    "        user_score = row[f'user_score_{user_study}']\n",
    "\n",
    "        text.append(row['aa'] + ' ' + row['aci'])\n",
    "        user_ratings.append(user_score)\n",
    "        perplexity.append(row[metric_name])\n",
    "        if user_score >= 0:\n",
    "            does.append(True)\n",
    "        else:\n",
    "            does.append(False)\n",
    "    \n",
    "    does_ids = [i for i in range(len(does)) if does[i] == True]\n",
    "    donts_ids = [i for i in range(len(does)) if does[i] == False]\n",
    "    user_ratings_does = np.array(user_ratings)[does_ids]\n",
    "    perplexity_does = np.array(perplexity)[does_ids]\n",
    "\n",
    "    user_ratings_donts = np.array(user_ratings)[donts_ids]\n",
    "    perplexity_donts = np.array(perplexity)[donts_ids]\n",
    "    \n",
    "    return scipy.stats.pearsonr(user_ratings, perplexity), len(user_ratings)\n",
    "\n",
    "   \n",
    "\n"
   ]
  },
  {
   "cell_type": "code",
   "execution_count": 34,
   "id": "0e653581",
   "metadata": {},
   "outputs": [],
   "source": [
    "for model in models:\n",
    "    prompts = pickle.load(open(f'../data/MoRT_actions/prompts_{model}_pair_logprob_userstudy_globalAMT_style_mv_at_end_use_last_token_True.p', 'rb'))\n",
    "    (r, p),n = get_correlation(prompts, 'log prob difference')\n",
    "    row = {'model':model.upper(),'r' : r, 'p': p, 'dataset' : 'Homogeneous norms',\n",
    "          'n': n}\n",
    "    list_rows.append(row)"
   ]
  },
  {
   "cell_type": "code",
   "execution_count": 35,
   "id": "ec578a3a",
   "metadata": {},
   "outputs": [],
   "source": [
    "df = pd.DataFrame(list_rows)\n"
   ]
  },
  {
   "cell_type": "code",
   "execution_count": 36,
   "id": "968d80a7",
   "metadata": {},
   "outputs": [
    {
     "data": {
      "text/html": [
       "<div>\n",
       "<style scoped>\n",
       "    .dataframe tbody tr th:only-of-type {\n",
       "        vertical-align: middle;\n",
       "    }\n",
       "\n",
       "    .dataframe tbody tr th {\n",
       "        vertical-align: top;\n",
       "    }\n",
       "\n",
       "    .dataframe thead th {\n",
       "        text-align: right;\n",
       "    }\n",
       "</style>\n",
       "<table border=\"1\" class=\"dataframe\">\n",
       "  <thead>\n",
       "    <tr style=\"text-align: right;\">\n",
       "      <th></th>\n",
       "      <th>model</th>\n",
       "      <th>r</th>\n",
       "      <th>p</th>\n",
       "      <th>dataset</th>\n",
       "      <th>n</th>\n",
       "    </tr>\n",
       "  </thead>\n",
       "  <tbody>\n",
       "    <tr>\n",
       "      <th>0</th>\n",
       "      <td>SBERT</td>\n",
       "      <td>0.209322</td>\n",
       "      <td>2.308256e-10</td>\n",
       "      <td>WVS</td>\n",
       "      <td>1028.0</td>\n",
       "    </tr>\n",
       "    <tr>\n",
       "      <th>1</th>\n",
       "      <td>SBERT</td>\n",
       "      <td>-0.038478</td>\n",
       "      <td>1.000000e+00</td>\n",
       "      <td>PEW</td>\n",
       "      <td>312.0</td>\n",
       "    </tr>\n",
       "    <tr>\n",
       "      <th>2</th>\n",
       "      <td>GPT3-QA</td>\n",
       "      <td>0.329309</td>\n",
       "      <td>3.803282e-26</td>\n",
       "      <td>WVS</td>\n",
       "      <td>1028.0</td>\n",
       "    </tr>\n",
       "    <tr>\n",
       "      <th>3</th>\n",
       "      <td>GPT3-QA</td>\n",
       "      <td>0.391280</td>\n",
       "      <td>1.408443e-11</td>\n",
       "      <td>PEW</td>\n",
       "      <td>312.0</td>\n",
       "    </tr>\n",
       "    <tr>\n",
       "      <th>4</th>\n",
       "      <td>GPT3-PROBS</td>\n",
       "      <td>0.345986</td>\n",
       "      <td>5.331089e-29</td>\n",
       "      <td>WVS</td>\n",
       "      <td>1028.0</td>\n",
       "    </tr>\n",
       "    <tr>\n",
       "      <th>5</th>\n",
       "      <td>GPT3-PROBS</td>\n",
       "      <td>0.339773</td>\n",
       "      <td>1.366806e-08</td>\n",
       "      <td>PEW</td>\n",
       "      <td>312.0</td>\n",
       "    </tr>\n",
       "    <tr>\n",
       "      <th>6</th>\n",
       "      <td>GPT2</td>\n",
       "      <td>0.175816</td>\n",
       "      <td>2.643196e-07</td>\n",
       "      <td>WVS</td>\n",
       "      <td>1028.0</td>\n",
       "    </tr>\n",
       "    <tr>\n",
       "      <th>7</th>\n",
       "      <td>GPT2</td>\n",
       "      <td>0.175816</td>\n",
       "      <td>2.643196e-07</td>\n",
       "      <td>WVS</td>\n",
       "      <td>1028.0</td>\n",
       "    </tr>\n",
       "    <tr>\n",
       "      <th>8</th>\n",
       "      <td>GPT2</td>\n",
       "      <td>-0.069006</td>\n",
       "      <td>1.000000e+00</td>\n",
       "      <td>PEW</td>\n",
       "      <td>312.0</td>\n",
       "    </tr>\n",
       "    <tr>\n",
       "      <th>9</th>\n",
       "      <td>GPT2-MEDIUM</td>\n",
       "      <td>0.181037</td>\n",
       "      <td>9.578648e-08</td>\n",
       "      <td>WVS</td>\n",
       "      <td>1028.0</td>\n",
       "    </tr>\n",
       "    <tr>\n",
       "      <th>10</th>\n",
       "      <td>GPT2-MEDIUM</td>\n",
       "      <td>0.032531</td>\n",
       "      <td>1.000000e+00</td>\n",
       "      <td>PEW</td>\n",
       "      <td>312.0</td>\n",
       "    </tr>\n",
       "    <tr>\n",
       "      <th>11</th>\n",
       "      <td>GPT2-LARGE</td>\n",
       "      <td>0.226414</td>\n",
       "      <td>3.875661e-12</td>\n",
       "      <td>WVS</td>\n",
       "      <td>1028.0</td>\n",
       "    </tr>\n",
       "    <tr>\n",
       "      <th>12</th>\n",
       "      <td>GPT2-LARGE</td>\n",
       "      <td>0.157481</td>\n",
       "      <td>1.007916e-01</td>\n",
       "      <td>PEW</td>\n",
       "      <td>312.0</td>\n",
       "    </tr>\n",
       "    <tr>\n",
       "      <th>13</th>\n",
       "      <td>SBERT</td>\n",
       "      <td>0.790000</td>\n",
       "      <td>NaN</td>\n",
       "      <td>Homogeneous norms</td>\n",
       "      <td>NaN</td>\n",
       "    </tr>\n",
       "    <tr>\n",
       "      <th>14</th>\n",
       "      <td>GPT3-QA</td>\n",
       "      <td>0.787423</td>\n",
       "      <td>4.927246e-21</td>\n",
       "      <td>Homogeneous norms</td>\n",
       "      <td>100.0</td>\n",
       "    </tr>\n",
       "    <tr>\n",
       "      <th>15</th>\n",
       "      <td>GPT3-PROBS</td>\n",
       "      <td>0.852275</td>\n",
       "      <td>4.705610e-28</td>\n",
       "      <td>Homogeneous norms</td>\n",
       "      <td>100.0</td>\n",
       "    </tr>\n",
       "    <tr>\n",
       "      <th>16</th>\n",
       "      <td>GPT2</td>\n",
       "      <td>0.797927</td>\n",
       "      <td>5.411762e-22</td>\n",
       "      <td>Homogeneous norms</td>\n",
       "      <td>100.0</td>\n",
       "    </tr>\n",
       "    <tr>\n",
       "      <th>17</th>\n",
       "      <td>GPT2-MEDIUM</td>\n",
       "      <td>0.787247</td>\n",
       "      <td>5.107098e-21</td>\n",
       "      <td>Homogeneous norms</td>\n",
       "      <td>100.0</td>\n",
       "    </tr>\n",
       "    <tr>\n",
       "      <th>18</th>\n",
       "      <td>GPT2-LARGE</td>\n",
       "      <td>0.761870</td>\n",
       "      <td>6.540142e-19</td>\n",
       "      <td>Homogeneous norms</td>\n",
       "      <td>100.0</td>\n",
       "    </tr>\n",
       "  </tbody>\n",
       "</table>\n",
       "</div>"
      ],
      "text/plain": [
       "          model         r             p            dataset       n\n",
       "0         SBERT  0.209322  2.308256e-10                WVS  1028.0\n",
       "1         SBERT -0.038478  1.000000e+00                PEW   312.0\n",
       "2       GPT3-QA  0.329309  3.803282e-26                WVS  1028.0\n",
       "3       GPT3-QA  0.391280  1.408443e-11                PEW   312.0\n",
       "4    GPT3-PROBS  0.345986  5.331089e-29                WVS  1028.0\n",
       "5    GPT3-PROBS  0.339773  1.366806e-08                PEW   312.0\n",
       "6          GPT2  0.175816  2.643196e-07                WVS  1028.0\n",
       "7          GPT2  0.175816  2.643196e-07                WVS  1028.0\n",
       "8          GPT2 -0.069006  1.000000e+00                PEW   312.0\n",
       "9   GPT2-MEDIUM  0.181037  9.578648e-08                WVS  1028.0\n",
       "10  GPT2-MEDIUM  0.032531  1.000000e+00                PEW   312.0\n",
       "11   GPT2-LARGE  0.226414  3.875661e-12                WVS  1028.0\n",
       "12   GPT2-LARGE  0.157481  1.007916e-01                PEW   312.0\n",
       "13        SBERT  0.790000           NaN  Homogeneous norms     NaN\n",
       "14      GPT3-QA  0.787423  4.927246e-21  Homogeneous norms   100.0\n",
       "15   GPT3-PROBS  0.852275  4.705610e-28  Homogeneous norms   100.0\n",
       "16         GPT2  0.797927  5.411762e-22  Homogeneous norms   100.0\n",
       "17  GPT2-MEDIUM  0.787247  5.107098e-21  Homogeneous norms   100.0\n",
       "18   GPT2-LARGE  0.761870  6.540142e-19  Homogeneous norms   100.0"
      ]
     },
     "execution_count": 36,
     "metadata": {},
     "output_type": "execute_result"
    }
   ],
   "source": [
    "from statsmodels.stats.multitest import multipletests\n",
    "df['p'] = multipletests(df['p'], method = 'bonferroni', alpha = 0.5)[1]\n",
    "df"
   ]
  },
  {
   "cell_type": "code",
   "execution_count": 16,
   "id": "21b7565d",
   "metadata": {},
   "outputs": [
    {
     "data": {
      "image/png": "[encoded data removed]",
      "text/plain": [
       "<Figure size 360x180 with 1 Axes>"
      ]
     },
     "metadata": {
      "needs_background": "light"
     },
     "output_type": "display_data"
    }
   ],
   "source": [
    "\n",
    "fig, axes = plt.subplots(figsize = (5, 2.5))\n",
    "g = sns.barplot(data = df, x = 'model', y = 'r',hue = 'dataset' )\n",
    "g.set_xticklabels(rotation=30, labels = g.get_xticklabels(),ha = 'right')\n",
    "sns.despine(left = False)\n",
    "\n",
    "    \n",
    "g.legend(loc='center left', bbox_to_anchor=(0,1.22))\n",
    "plt.show()"
   ]
  },
  {
   "cell_type": "code",
   "execution_count": null,
   "id": "5972f328",
   "metadata": {},
   "outputs": [],
   "source": []
  }
 ],
 "metadata": {
  "kernelspec": {
   "display_name": "Python 3 (ipykernel)",
   "language": "python",
   "name": "python3"
  },
  "language_info": {
   "codemirror_mode": {
    "name": "ipython",
    "version": 3
   },
   "file_extension": ".py",
   "mimetype": "text/x-python",
   "name": "python",
   "nbconvert_exporter": "python",
   "pygments_lexer": "ipython3",
   "version": "3.9.6"
  }
 },
 "nbformat": 4,
 "nbformat_minor": 5
}
