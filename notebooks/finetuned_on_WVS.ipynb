{
 "cells": [
  {
   "cell_type": "code",
   "execution_count": 43,
   "id": "fbb82edb",
   "metadata": {},
   "outputs": [],
   "source": [
    "import pandas as pd\n",
    "import numpy as np\n",
    "import scipy.stats\n",
    "import matplotlib.pyplot as plt\n",
    "import seaborn as sns\n",
    "import pickle\n",
    "from statsmodels.stats.multitest import multipletests"
   ]
  },
  {
   "cell_type": "code",
   "execution_count": 44,
   "id": "970f334b",
   "metadata": {},
   "outputs": [],
   "source": [
    "models = ['country_based','topic based','random','removed topics']"
   ]
  },
  {
   "cell_type": "code",
   "execution_count": 45,
   "id": "992a5277",
   "metadata": {},
   "outputs": [],
   "source": [
    "index = 'token_pairs'"
   ]
  },
  {
   "cell_type": "markdown",
   "id": "a10c1e42",
   "metadata": {},
   "source": [
    "## Evaluating on PEW"
   ]
  },
  {
   "cell_type": "code",
   "execution_count": 59,
   "id": "f09f79a6",
   "metadata": {},
   "outputs": [],
   "source": [
    "list_rows = []\n",
    "for model in models:\n",
    "    pew_gpt2 = pd.read_csv(f'../data/pew_gpt2_{model}_on_wvs_{index}.csv')\n",
    "    pew_gpt2_cultural = pew_gpt2.loc[pew_gpt2['country'] != 'universal']\n",
    "    r, p = scipy.stats.pearsonr(pew_gpt2_cultural['pew_score'], pew_gpt2_cultural['log prob difference'])\n",
    "    row = {'model':'gpt2','train_data' : 'WVS', 'eval_data': 'PEW',\n",
    "          'strategy': model, 'r': r, 'p': p, 'n': len(pew_gpt2_cultural)}\n",
    "    list_rows.append(row)\n"
   ]
  },
  {
   "cell_type": "code",
   "execution_count": 60,
   "id": "b429d2b0",
   "metadata": {},
   "outputs": [
    {
     "data": {
      "text/html": [
       "<div>\n",
       "<style scoped>\n",
       "    .dataframe tbody tr th:only-of-type {\n",
       "        vertical-align: middle;\n",
       "    }\n",
       "\n",
       "    .dataframe tbody tr th {\n",
       "        vertical-align: top;\n",
       "    }\n",
       "\n",
       "    .dataframe thead th {\n",
       "        text-align: right;\n",
       "    }\n",
       "</style>\n",
       "<table border=\"1\" class=\"dataframe\">\n",
       "  <thead>\n",
       "    <tr style=\"text-align: right;\">\n",
       "      <th></th>\n",
       "      <th>model</th>\n",
       "      <th>train_data</th>\n",
       "      <th>eval_data</th>\n",
       "      <th>strategy</th>\n",
       "      <th>r</th>\n",
       "      <th>p</th>\n",
       "      <th>n</th>\n",
       "    </tr>\n",
       "  </thead>\n",
       "  <tbody>\n",
       "    <tr>\n",
       "      <th>0</th>\n",
       "      <td>gpt2</td>\n",
       "      <td>WVS</td>\n",
       "      <td>PEW</td>\n",
       "      <td>country_based</td>\n",
       "      <td>0.419315</td>\n",
       "      <td>4.093773e-14</td>\n",
       "      <td>312</td>\n",
       "    </tr>\n",
       "    <tr>\n",
       "      <th>1</th>\n",
       "      <td>gpt2</td>\n",
       "      <td>WVS</td>\n",
       "      <td>PEW</td>\n",
       "      <td>topic based</td>\n",
       "      <td>0.297012</td>\n",
       "      <td>3.589974e-07</td>\n",
       "      <td>312</td>\n",
       "    </tr>\n",
       "    <tr>\n",
       "      <th>2</th>\n",
       "      <td>gpt2</td>\n",
       "      <td>WVS</td>\n",
       "      <td>PEW</td>\n",
       "      <td>random</td>\n",
       "      <td>0.510297</td>\n",
       "      <td>1.740004e-21</td>\n",
       "      <td>312</td>\n",
       "    </tr>\n",
       "    <tr>\n",
       "      <th>3</th>\n",
       "      <td>gpt2</td>\n",
       "      <td>WVS</td>\n",
       "      <td>PEW</td>\n",
       "      <td>removed topics</td>\n",
       "      <td>0.211972</td>\n",
       "      <td>6.475481e-04</td>\n",
       "      <td>312</td>\n",
       "    </tr>\n",
       "  </tbody>\n",
       "</table>\n",
       "</div>"
      ],
      "text/plain": [
       "  model train_data eval_data        strategy         r             p    n\n",
       "0  gpt2        WVS       PEW   country_based  0.419315  4.093773e-14  312\n",
       "1  gpt2        WVS       PEW     topic based  0.297012  3.589974e-07  312\n",
       "2  gpt2        WVS       PEW          random  0.510297  1.740004e-21  312\n",
       "3  gpt2        WVS       PEW  removed topics  0.211972  6.475481e-04  312"
      ]
     },
     "execution_count": 60,
     "metadata": {},
     "output_type": "execute_result"
    }
   ],
   "source": [
    "df = pd.DataFrame(list_rows)\n",
    "df['p'] = multipletests(df['p'], method = 'bonferroni', alpha = 0.5)[1]\n",
    "df"
   ]
  },
  {
   "cell_type": "markdown",
   "id": "72eba85a",
   "metadata": {},
   "source": [
    "## Evaluating on WVS"
   ]
  },
  {
   "cell_type": "markdown",
   "id": "c9875920",
   "metadata": {},
   "source": [
    "We remove the seen topic-country pairs from evaluation set"
   ]
  },
  {
   "cell_type": "code",
   "execution_count": 61,
   "id": "2227c745",
   "metadata": {},
   "outputs": [],
   "source": [
    "def included_function(pairs):\n",
    "    def func(row):\n",
    "        return (row['country'], row['topic']) in pairs\n",
    "    return func"
   ]
  },
  {
   "cell_type": "code",
   "execution_count": 62,
   "id": "b4c0fee3",
   "metadata": {},
   "outputs": [],
   "source": [
    "all_eval_pairs = pickle.load(open('../data/wvs_eval_pairs.p', 'rb'))\n",
    "list_rows = []\n",
    "for model in models:\n",
    "    eval_pairs = all_eval_pairs[model]\n",
    "    if model == 'topic based':\n",
    "        model_refined = 'topic_based'\n",
    "    elif model == 'removed topics':\n",
    "        model_refined = 'removed_topic'\n",
    "    else:\n",
    "        model_refined = model\n",
    "    wvs_gpt2 = pd.read_csv(f'../data/wvs_w7_gpt2_{model}_on_wvs_{index}.csv')\n",
    "    wvs_gpt2_cultural = wvs_gpt2.loc[wvs_gpt2['country'] != 'universal']\n",
    "    wvs_gpt2_cultural = wvs_gpt2_cultural.loc[~pd.isna(wvs_gpt2_cultural['wvs_score'])]\n",
    "    \n",
    "    wvs_gpt2_cultural['in_eval'] = wvs_gpt2_cultural.apply(included_function(eval_pairs), axis = 1)\n",
    "    wvs_gpt2_cultural = wvs_gpt2_cultural.loc[wvs_gpt2_cultural.in_eval == True]\n",
    "    \n",
    "    \n",
    "    r, p = scipy.stats.pearsonr(wvs_gpt2_cultural['wvs_score'], wvs_gpt2_cultural['log prob difference'])\n",
    "    row = {'model':'gpt2','train_data' : 'WVS', 'eval_data': 'WVS',\n",
    "          'strategy': model, 'r': r, 'p': p, 'n': len(wvs_gpt2_cultural)}\n",
    "    list_rows.append(row)\n",
    "\n"
   ]
  },
  {
   "cell_type": "code",
   "execution_count": 63,
   "id": "22e2a2cf",
   "metadata": {},
   "outputs": [
    {
     "data": {
      "text/html": [
       "<div>\n",
       "<style scoped>\n",
       "    .dataframe tbody tr th:only-of-type {\n",
       "        vertical-align: middle;\n",
       "    }\n",
       "\n",
       "    .dataframe tbody tr th {\n",
       "        vertical-align: top;\n",
       "    }\n",
       "\n",
       "    .dataframe thead th {\n",
       "        text-align: right;\n",
       "    }\n",
       "</style>\n",
       "<table border=\"1\" class=\"dataframe\">\n",
       "  <thead>\n",
       "    <tr style=\"text-align: right;\">\n",
       "      <th></th>\n",
       "      <th>model</th>\n",
       "      <th>train_data</th>\n",
       "      <th>eval_data</th>\n",
       "      <th>strategy</th>\n",
       "      <th>r</th>\n",
       "      <th>p</th>\n",
       "      <th>n</th>\n",
       "    </tr>\n",
       "  </thead>\n",
       "  <tbody>\n",
       "    <tr>\n",
       "      <th>0</th>\n",
       "      <td>gpt2</td>\n",
       "      <td>WVS</td>\n",
       "      <td>WVS</td>\n",
       "      <td>country_based</td>\n",
       "      <td>0.758790</td>\n",
       "      <td>1.706782e-38</td>\n",
       "      <td>202</td>\n",
       "    </tr>\n",
       "    <tr>\n",
       "      <th>1</th>\n",
       "      <td>gpt2</td>\n",
       "      <td>WVS</td>\n",
       "      <td>WVS</td>\n",
       "      <td>topic based</td>\n",
       "      <td>0.508033</td>\n",
       "      <td>5.673770e-15</td>\n",
       "      <td>216</td>\n",
       "    </tr>\n",
       "    <tr>\n",
       "      <th>2</th>\n",
       "      <td>gpt2</td>\n",
       "      <td>WVS</td>\n",
       "      <td>WVS</td>\n",
       "      <td>random</td>\n",
       "      <td>0.831959</td>\n",
       "      <td>1.727711e-53</td>\n",
       "      <td>206</td>\n",
       "    </tr>\n",
       "    <tr>\n",
       "      <th>3</th>\n",
       "      <td>gpt2</td>\n",
       "      <td>WVS</td>\n",
       "      <td>WVS</td>\n",
       "      <td>removed topics</td>\n",
       "      <td>0.664373</td>\n",
       "      <td>9.198057e-28</td>\n",
       "      <td>212</td>\n",
       "    </tr>\n",
       "  </tbody>\n",
       "</table>\n",
       "</div>"
      ],
      "text/plain": [
       "  model train_data eval_data        strategy         r             p    n\n",
       "0  gpt2        WVS       WVS   country_based  0.758790  1.706782e-38  202\n",
       "1  gpt2        WVS       WVS     topic based  0.508033  5.673770e-15  216\n",
       "2  gpt2        WVS       WVS          random  0.831959  1.727711e-53  206\n",
       "3  gpt2        WVS       WVS  removed topics  0.664373  9.198057e-28  212"
      ]
     },
     "execution_count": 63,
     "metadata": {},
     "output_type": "execute_result"
    }
   ],
   "source": [
    "df = pd.DataFrame(list_rows)\n",
    "df['p'] = multipletests(df['p'], method = 'bonferroni', alpha = 0.5)[1]\n",
    "df"
   ]
  },
  {
   "cell_type": "markdown",
   "id": "fb0b723f",
   "metadata": {},
   "source": [
    "## Variation study"
   ]
  },
  {
   "cell_type": "markdown",
   "id": "b92face4",
   "metadata": {},
   "source": [
    "### WVS"
   ]
  },
  {
   "cell_type": "code",
   "execution_count": 64,
   "id": "c033c79c",
   "metadata": {},
   "outputs": [],
   "source": [
    "topics = ['claiming government benefits to which you are not entitled',\n",
    " 'avoiding a fare on public transport',\n",
    " 'stealing property',\n",
    " 'cheating on taxes',\n",
    " 'someone accepting a bribe in the course of their duties',\n",
    " 'homosexuality',\n",
    " 'prostitution',\n",
    " 'abortion',\n",
    " 'divorce',\n",
    " 'sex before marriage',\n",
    " 'suicide',\n",
    " 'euthanasia',\n",
    " 'for a man to beat his wife',\n",
    " 'parents beating children',\n",
    " 'violence against other people',\n",
    " 'terrorism as a political, ideological or religious mean',\n",
    " 'having casual sex',\n",
    " 'political violence',\n",
    " 'death penalty']"
   ]
  },
  {
   "cell_type": "code",
   "execution_count": 65,
   "id": "a7c12238",
   "metadata": {},
   "outputs": [],
   "source": [
    "variation_rows = []\n",
    "\n",
    "for i, model in enumerate(models):\n",
    "\n",
    "    wvs_gpt2 = pd.read_csv(f'../data/wvs_w7_gpt2_{model}_on_wvs_{index}.csv')\n",
    "    wvs_gpt2_cultural = wvs_gpt2.loc[wvs_gpt2['country'] != 'universal']\n",
    "    df = wvs_gpt2_cultural.loc[~pd.isna(wvs_gpt2_cultural['wvs_score'])]\n",
    "\n",
    "    for t in topics:\n",
    "\n",
    "        pew_gpt2_t = df.loc[df.topic == t]\n",
    "        user_var = np.var(pew_gpt2_t['wvs_score'])\n",
    "        model_var = np.var(pew_gpt2_t['log prob difference'])\n",
    "        row = {'model': model, 'user variation': user_var, 'model variation': model_var, 'topic': t}\n",
    "        variation_rows.append(row)\n",
    "\n",
    "df = pd.DataFrame(variation_rows)\n",
    "\n",
    "   \n",
    "\n",
    "\n",
    "        "
   ]
  },
  {
   "cell_type": "code",
   "execution_count": 66,
   "id": "10eb4611",
   "metadata": {},
   "outputs": [],
   "source": [
    "list_rows = []\n",
    "for i, model in enumerate(models):\n",
    "    \n",
    "    model_df = df.loc[df.model == model] \n",
    "    r, p = scipy.stats.pearsonr(model_df['model variation'],model_df['user variation'])\n",
    "    \n",
    "    row = {'strategy': model, 'r': r, 'p':p,\n",
    "          'n': len(model_df)}\n",
    "    list_rows.append(row)"
   ]
  },
  {
   "cell_type": "code",
   "execution_count": 67,
   "id": "c19affbb",
   "metadata": {},
   "outputs": [
    {
     "data": {
      "text/html": [
       "<div>\n",
       "<style scoped>\n",
       "    .dataframe tbody tr th:only-of-type {\n",
       "        vertical-align: middle;\n",
       "    }\n",
       "\n",
       "    .dataframe tbody tr th {\n",
       "        vertical-align: top;\n",
       "    }\n",
       "\n",
       "    .dataframe thead th {\n",
       "        text-align: right;\n",
       "    }\n",
       "</style>\n",
       "<table border=\"1\" class=\"dataframe\">\n",
       "  <thead>\n",
       "    <tr style=\"text-align: right;\">\n",
       "      <th></th>\n",
       "      <th>strategy</th>\n",
       "      <th>r</th>\n",
       "      <th>p</th>\n",
       "      <th>n</th>\n",
       "    </tr>\n",
       "  </thead>\n",
       "  <tbody>\n",
       "    <tr>\n",
       "      <th>0</th>\n",
       "      <td>country_based</td>\n",
       "      <td>0.894113</td>\n",
       "      <td>9.875328e-07</td>\n",
       "      <td>19</td>\n",
       "    </tr>\n",
       "    <tr>\n",
       "      <th>1</th>\n",
       "      <td>topic based</td>\n",
       "      <td>0.835123</td>\n",
       "      <td>3.453098e-05</td>\n",
       "      <td>19</td>\n",
       "    </tr>\n",
       "    <tr>\n",
       "      <th>2</th>\n",
       "      <td>random</td>\n",
       "      <td>0.892575</td>\n",
       "      <td>1.110276e-06</td>\n",
       "      <td>19</td>\n",
       "    </tr>\n",
       "    <tr>\n",
       "      <th>3</th>\n",
       "      <td>removed topics</td>\n",
       "      <td>0.744049</td>\n",
       "      <td>1.038551e-03</td>\n",
       "      <td>19</td>\n",
       "    </tr>\n",
       "  </tbody>\n",
       "</table>\n",
       "</div>"
      ],
      "text/plain": [
       "         strategy         r             p   n\n",
       "0   country_based  0.894113  9.875328e-07  19\n",
       "1     topic based  0.835123  3.453098e-05  19\n",
       "2          random  0.892575  1.110276e-06  19\n",
       "3  removed topics  0.744049  1.038551e-03  19"
      ]
     },
     "execution_count": 67,
     "metadata": {},
     "output_type": "execute_result"
    }
   ],
   "source": [
    "df = pd.DataFrame(list_rows)\n",
    "df['p'] = multipletests(df['p'], method = 'bonferroni', alpha = 0.5)[1]\n",
    "df"
   ]
  },
  {
   "cell_type": "markdown",
   "id": "3b1f1de8",
   "metadata": {},
   "source": [
    "## PEW"
   ]
  },
  {
   "cell_type": "code",
   "execution_count": 68,
   "id": "bccb2184",
   "metadata": {},
   "outputs": [],
   "source": [
    "pew_topics = {'using contraceptives':['using contraceptives', 'use contraceptives'],\n",
    "           'getting a divorce': ['getting a divorce','get a divorce'], \n",
    "           'having an abortion': ['having an abortion','have an abortion'],\n",
    "           'homosexuality': ['homosexuality','be homosexual'], \n",
    "           'drinking alcohol': ['drinking alcohol','drink alcohol'],\n",
    "           'married people having an affair' : ['married people having an affair', 'have an extramarital affair'],\n",
    "            'gambling': ['gambling','gamble'],\n",
    "       'sex between unmarried adults': [ 'sex between unmarried adults','have sex between unmarried adults']\n",
    "                         }\n",
    "\n",
    "pew_topics_list = list(pew_topics.keys())\n",
    "\n",
    "variation_rows = []\n",
    "\n",
    "for i, model in enumerate(models):\n",
    "\n",
    "    pew_gpt2 = pd.read_csv(f'../data/pew_gpt2_{model}_on_wvs_{index}.csv')\n",
    "    pew_gpt2_cultural = pew_gpt2.loc[wvs_gpt2['country'] != 'universal']\n",
    "    df = pew_gpt2_cultural.loc[~pd.isna(pew_gpt2_cultural['pew_score'])]\n",
    "\n",
    "    for t in pew_topics:\n",
    "\n",
    "        pew_gpt2_t = df.loc[df.topic.isin(pew_topics[t])]\n",
    "        user_var = np.var(pew_gpt2_t['pew_score'])\n",
    "        model_var = np.var(pew_gpt2_t['log prob difference'])\n",
    "        row = {'model': model, 'user variation': user_var, 'model variation': model_var, 'topic': t}\n",
    "        variation_rows.append(row)\n",
    "\n",
    "df = pd.DataFrame(variation_rows)\n",
    "\n",
    "   \n",
    "\n"
   ]
  },
  {
   "cell_type": "code",
   "execution_count": 69,
   "id": "5b6fd135",
   "metadata": {},
   "outputs": [],
   "source": [
    "list_rows = [ ]\n",
    "for i, model in enumerate(models):\n",
    "    \n",
    "    model_df = df.loc[df.model == model]\n",
    "    \n",
    "    r, p = scipy.stats.pearsonr(model_df['model variation'],model_df['user variation'])\n",
    "    \n",
    "    row = {'strategy': model, 'r': r, 'p':p,\n",
    "          'n': len(model_df)}\n",
    "    list_rows.append(row)\n"
   ]
  },
  {
   "cell_type": "code",
   "execution_count": 70,
   "id": "b17be0d6",
   "metadata": {},
   "outputs": [
    {
     "data": {
      "text/html": [
       "<div>\n",
       "<style scoped>\n",
       "    .dataframe tbody tr th:only-of-type {\n",
       "        vertical-align: middle;\n",
       "    }\n",
       "\n",
       "    .dataframe tbody tr th {\n",
       "        vertical-align: top;\n",
       "    }\n",
       "\n",
       "    .dataframe thead th {\n",
       "        text-align: right;\n",
       "    }\n",
       "</style>\n",
       "<table border=\"1\" class=\"dataframe\">\n",
       "  <thead>\n",
       "    <tr style=\"text-align: right;\">\n",
       "      <th></th>\n",
       "      <th>strategy</th>\n",
       "      <th>r</th>\n",
       "      <th>p</th>\n",
       "      <th>n</th>\n",
       "    </tr>\n",
       "  </thead>\n",
       "  <tbody>\n",
       "    <tr>\n",
       "      <th>0</th>\n",
       "      <td>country_based</td>\n",
       "      <td>0.570803</td>\n",
       "      <td>0.557971</td>\n",
       "      <td>8</td>\n",
       "    </tr>\n",
       "    <tr>\n",
       "      <th>1</th>\n",
       "      <td>topic based</td>\n",
       "      <td>0.395831</td>\n",
       "      <td>1.000000</td>\n",
       "      <td>8</td>\n",
       "    </tr>\n",
       "    <tr>\n",
       "      <th>2</th>\n",
       "      <td>random</td>\n",
       "      <td>0.629650</td>\n",
       "      <td>0.377324</td>\n",
       "      <td>8</td>\n",
       "    </tr>\n",
       "    <tr>\n",
       "      <th>3</th>\n",
       "      <td>removed topics</td>\n",
       "      <td>-0.092149</td>\n",
       "      <td>1.000000</td>\n",
       "      <td>8</td>\n",
       "    </tr>\n",
       "  </tbody>\n",
       "</table>\n",
       "</div>"
      ],
      "text/plain": [
       "         strategy         r         p  n\n",
       "0   country_based  0.570803  0.557971  8\n",
       "1     topic based  0.395831  1.000000  8\n",
       "2          random  0.629650  0.377324  8\n",
       "3  removed topics -0.092149  1.000000  8"
      ]
     },
     "execution_count": 70,
     "metadata": {},
     "output_type": "execute_result"
    }
   ],
   "source": [
    "df = pd.DataFrame(list_rows)\n",
    "df['p'] = multipletests(df['p'], method = 'bonferroni', alpha = 0.5)[1]\n",
    "df"
   ]
  },
  {
   "cell_type": "code",
   "execution_count": null,
   "id": "53fd2059",
   "metadata": {},
   "outputs": [],
   "source": []
  }
 ],
 "metadata": {
  "kernelspec": {
   "display_name": "Python 3 (ipykernel)",
   "language": "python",
   "name": "python3"
  },
  "language_info": {
   "codemirror_mode": {
    "name": "ipython",
    "version": 3
   },
   "file_extension": ".py",
   "mimetype": "text/x-python",
   "name": "python",
   "nbconvert_exporter": "python",
   "pygments_lexer": "ipython3",
   "version": "3.9.6"
  }
 },
 "nbformat": 4,
 "nbformat_minor": 5
}
